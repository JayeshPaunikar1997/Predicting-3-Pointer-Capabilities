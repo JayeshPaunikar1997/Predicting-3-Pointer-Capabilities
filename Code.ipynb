{
 "cells": [
  {
   "cell_type": "code",
   "execution_count": 5,
   "metadata": {},
   "outputs": [],
   "source": [
    "import numpy as np\n",
    "import pandas as pd\n",
    "import statsmodels.api as sm\n",
    "import matplotlib.pyplot as plt\n",
    "%matplotlib inline\n",
    "import random as rand\n",
    "from sklearn import preprocessing "
   ]
  },
  {
   "cell_type": "code",
   "execution_count": 6,
   "metadata": {},
   "outputs": [
    {
     "name": "stdout",
     "output_type": "stream",
     "text": [
      "Requirement already satisfied: ControlBurn in c:\\users\\manas\\anaconda3\\lib\\site-packages (0.0.9)\n",
      "Note: you may need to restart the kernel to use updated packages.\n"
     ]
    }
   ],
   "source": [
    "pip install ControlBurn"
   ]
  },
  {
   "cell_type": "code",
   "execution_count": 7,
   "metadata": {},
   "outputs": [
    {
     "name": "stdout",
     "output_type": "stream",
     "text": [
      "0 \t FULL NAME \t\t\t <class 'str'>\n",
      "1 \t TEAM \t\t\t <class 'str'>\n",
      "2 \t WingSpan(cm) \t\t\t <class 'numpy.float64'>\n",
      "3 \t POS \t\t\t <class 'str'>\n",
      "4 \t AGE \t\t\t <class 'numpy.float64'>\n",
      "5 \t GP \t\t\t <class 'numpy.int64'>\n",
      "6 \t MPG \t\t\t <class 'numpy.float64'>\n",
      "7 \t MIN%Minutes Percentage \t\t\t <class 'numpy.float64'>\n",
      "8 \t USG%Usage Rate \t\t\t <class 'numpy.float64'>\n",
      "9 \t TO%Turnover Rate \t\t\t <class 'numpy.float64'>\n",
      "10 \t FTA \t\t\t <class 'numpy.int64'>\n",
      "11 \t FT \t\t\t <class 'numpy.float64'>\n",
      "12 \t FT% \t\t\t <class 'numpy.float64'>\n",
      "13 \t 2PA \t\t\t <class 'numpy.int64'>\n",
      "14 \t 2P \t\t\t <class 'numpy.float64'>\n",
      "15 \t 2P% \t\t\t <class 'numpy.float64'>\n",
      "16 \t 3PA \t\t\t <class 'numpy.int64'>\n",
      "17 \t 3P \t\t\t <class 'numpy.float64'>\n",
      "18 \t 3P% \t\t\t <class 'numpy.float64'>\n",
      "19 \t eFG \t\t\t <class 'numpy.float64'>\n",
      "20 \t eFG%Effective Shooting Percentage \t\t\t <class 'numpy.float64'>\n",
      "21 \t TS \t\t\t <class 'numpy.float64'>\n",
      "22 \t TS%True Shooting Percentage \t\t\t <class 'numpy.float64'>\n",
      "23 \t PPGPoints per game. \t\t\t <class 'numpy.float64'>\n",
      "24 \t RPGRebounds per game. \t\t\t <class 'numpy.float64'>\n",
      "25 \t TRB%Total Rebound Percentage \t\t\t <class 'numpy.float64'>\n",
      "26 \t APGAssists per game. \t\t\t <class 'numpy.float64'>\n",
      "27 \t Assist Percentage \t\t\t <class 'numpy.float64'>\n",
      "28 \t SPGSteals per game. \t\t\t <class 'numpy.float64'>\n",
      "29 \t BPGBlocks per game. \t\t\t <class 'numpy.float64'>\n",
      "30 \t TOPGTurnovers per game. \t\t\t <class 'numpy.float64'>\n",
      "31 \t VI \t\t\t <class 'numpy.float64'>\n",
      "32 \t ORTG \t\t\t <class 'numpy.float64'>\n",
      "33 \t DRTG \t\t\t <class 'numpy.float64'>\n"
     ]
    }
   ],
   "source": [
    "np.random.seed(26)\n",
    "df = pd.read_csv('Data_F1.csv')\n",
    "\n",
    "feature_names = df.columns\n",
    "for i in range(len(feature_names)):\n",
    " print(str(i), \"\\t\", str(feature_names[i]),\"\\t\\t\\t\", str(type(df.iloc[0,i])))"
   ]
  },
  {
   "cell_type": "code",
   "execution_count": 151,
   "metadata": {},
   "outputs": [
    {
     "data": {
      "text/plain": [
       "Index(['FULL NAME', 'TEAM', 'WingSpan(cm)', 'POS', 'AGE', 'GP', 'MPG',\n",
       "       'MIN%Minutes Percentage', 'USG%Usage Rate', 'TO%Turnover Rate', 'FTA',\n",
       "       'FT', 'FT%', '2PA', '2P', '2P%', '3PA', '3P', '3P%', 'eFG',\n",
       "       'eFG%Effective Shooting Percentage', 'TS',\n",
       "       'TS%True Shooting Percentage', 'PPGPoints per game.',\n",
       "       'RPGRebounds per game.', 'TRB%Total Rebound Percentage',\n",
       "       'APGAssists per game.', 'Assist Percentage', 'SPGSteals per game.',\n",
       "       'BPGBlocks per game.', 'TOPGTurnovers per game.', 'VI', 'ORTG', 'DRTG'],\n",
       "      dtype='object')"
      ]
     },
     "execution_count": 151,
     "metadata": {},
     "output_type": "execute_result"
    }
   ],
   "source": [
    "df.columns"
   ]
  },
  {
   "cell_type": "code",
   "execution_count": 152,
   "metadata": {},
   "outputs": [],
   "source": [
    "columns_to_norm = ['GP', 'MPG',\n",
    "       'MIN%Minutes Percentage', 'USG%Usage Rate', 'TO%Turnover Rate', 'FTA',\n",
    "       'FT','2PA', '2P', '3PA', '3P', 'eFG', 'TS', 'PPGPoints per game.',\n",
    "       'RPGRebounds per game.', 'TRB%Total Rebound Percentage',\n",
    "       'APGAssists per game.', 'Assist Percentage', 'SPGSteals per game.',\n",
    "       'BPGBlocks per game.', 'TOPGTurnovers per game.', 'VI', 'ORTG', 'DRTG','WingSpan(cm)']"
   ]
  },
  {
   "cell_type": "code",
   "execution_count": 153,
   "metadata": {},
   "outputs": [],
   "source": [
    "scaler = preprocessing.StandardScaler().fit(df[columns_to_norm])"
   ]
  },
  {
   "cell_type": "code",
   "execution_count": 154,
   "metadata": {},
   "outputs": [],
   "source": [
    "N_Data = scaler.transform(df[columns_to_norm])"
   ]
  },
  {
   "cell_type": "code",
   "execution_count": 155,
   "metadata": {},
   "outputs": [
    {
     "name": "stdout",
     "output_type": "stream",
     "text": [
      "[[ 1.11023283 -0.79404917 -0.79411108 ... -0.1434137  -1.22425089\n",
      "   0.38556988]\n",
      " [-1.36947054 -1.80953461 -1.81002115 ...         nan         nan\n",
      "  -0.79205677]\n",
      " [ 0.97247153  0.87348482  0.86828723 ...  0.66609642  0.26410195\n",
      "   1.0915526 ]\n",
      " ...\n",
      " [ 1.20207369  1.51484404  1.51990632 ...  0.49038879  1.01746574\n",
      "  -1.45132005]\n",
      " [ 0.5132672   0.14661103  0.14996698 ...  0.79787713 -0.89350582\n",
      "   0.05556745]\n",
      " [ 1.61535759  0.29626152  0.29876189 ...  1.5948367  -0.98537945\n",
      "   0.99737213]]\n"
     ]
    }
   ],
   "source": [
    "print(N_Data)"
   ]
  },
  {
   "cell_type": "code",
   "execution_count": 156,
   "metadata": {},
   "outputs": [
    {
     "data": {
      "text/plain": [
       "<function ndarray.astype>"
      ]
     },
     "execution_count": 156,
     "metadata": {},
     "output_type": "execute_result"
    }
   ],
   "source": [
    "N_Data.astype"
   ]
  },
  {
   "cell_type": "code",
   "execution_count": 157,
   "metadata": {},
   "outputs": [],
   "source": [
    "df1 = pd.DataFrame(N_Data, columns = ['GP', 'MPG',\n",
    "       'MIN%Minutes Percentage', 'USG%Usage Rate', 'TO%Turnover Rate', 'FTA',\n",
    "       'FT','2PA', '2P', '3PA', '3P', 'eFG', 'TS', 'PPGPoints per game.',\n",
    "       'RPGRebounds per game.', 'TRB%Total Rebound Percentage',\n",
    "       'APGAssists per game.', 'Assist Percentage', 'SPGSteals per game.',\n",
    "       'BPGBlocks per game.', 'TOPGTurnovers per game.', 'VI', 'ORTG', 'DRTG','WingSpan(cm)'])"
   ]
  },
  {
   "cell_type": "code",
   "execution_count": 158,
   "metadata": {},
   "outputs": [
    {
     "data": {
      "text/html": [
       "<div>\n",
       "<style scoped>\n",
       "    .dataframe tbody tr th:only-of-type {\n",
       "        vertical-align: middle;\n",
       "    }\n",
       "\n",
       "    .dataframe tbody tr th {\n",
       "        vertical-align: top;\n",
       "    }\n",
       "\n",
       "    .dataframe thead th {\n",
       "        text-align: right;\n",
       "    }\n",
       "</style>\n",
       "<table border=\"1\" class=\"dataframe\">\n",
       "  <thead>\n",
       "    <tr style=\"text-align: right;\">\n",
       "      <th></th>\n",
       "      <th>GP</th>\n",
       "      <th>MPG</th>\n",
       "      <th>MIN%Minutes Percentage</th>\n",
       "      <th>USG%Usage Rate</th>\n",
       "      <th>TO%Turnover Rate</th>\n",
       "      <th>FTA</th>\n",
       "      <th>FT</th>\n",
       "      <th>2PA</th>\n",
       "      <th>2P</th>\n",
       "      <th>3PA</th>\n",
       "      <th>...</th>\n",
       "      <th>TRB%Total Rebound Percentage</th>\n",
       "      <th>APGAssists per game.</th>\n",
       "      <th>Assist Percentage</th>\n",
       "      <th>SPGSteals per game.</th>\n",
       "      <th>BPGBlocks per game.</th>\n",
       "      <th>TOPGTurnovers per game.</th>\n",
       "      <th>VI</th>\n",
       "      <th>ORTG</th>\n",
       "      <th>DRTG</th>\n",
       "      <th>WingSpan(cm)</th>\n",
       "    </tr>\n",
       "  </thead>\n",
       "  <tbody>\n",
       "    <tr>\n",
       "      <th>0</th>\n",
       "      <td>1.110233</td>\n",
       "      <td>-0.794049</td>\n",
       "      <td>-0.794111</td>\n",
       "      <td>0.177939</td>\n",
       "      <td>0.097521</td>\n",
       "      <td>0.367783</td>\n",
       "      <td>-0.971993</td>\n",
       "      <td>0.201261</td>\n",
       "      <td>0.309256</td>\n",
       "      <td>-0.876707</td>\n",
       "      <td>...</td>\n",
       "      <td>1.247179</td>\n",
       "      <td>-0.785610</td>\n",
       "      <td>-0.795403</td>\n",
       "      <td>-0.704811</td>\n",
       "      <td>0.112953</td>\n",
       "      <td>-0.455204</td>\n",
       "      <td>-0.091482</td>\n",
       "      <td>-0.143414</td>\n",
       "      <td>-1.224251</td>\n",
       "      <td>0.385570</td>\n",
       "    </tr>\n",
       "    <tr>\n",
       "      <th>1</th>\n",
       "      <td>-1.369471</td>\n",
       "      <td>-1.809535</td>\n",
       "      <td>-1.810021</td>\n",
       "      <td>-0.000171</td>\n",
       "      <td>-1.702996</td>\n",
       "      <td>-0.797949</td>\n",
       "      <td>-3.345231</td>\n",
       "      <td>-0.871794</td>\n",
       "      <td>-2.340610</td>\n",
       "      <td>-0.869309</td>\n",
       "      <td>...</td>\n",
       "      <td>-0.299698</td>\n",
       "      <td>-0.894030</td>\n",
       "      <td>-0.047115</td>\n",
       "      <td>-1.530910</td>\n",
       "      <td>-0.997524</td>\n",
       "      <td>-1.295328</td>\n",
       "      <td>-0.767206</td>\n",
       "      <td>NaN</td>\n",
       "      <td>NaN</td>\n",
       "      <td>-0.792057</td>\n",
       "    </tr>\n",
       "    <tr>\n",
       "      <th>2</th>\n",
       "      <td>0.972472</td>\n",
       "      <td>0.873485</td>\n",
       "      <td>0.868287</td>\n",
       "      <td>-1.211317</td>\n",
       "      <td>0.657682</td>\n",
       "      <td>0.632722</td>\n",
       "      <td>-1.275058</td>\n",
       "      <td>0.579986</td>\n",
       "      <td>0.826644</td>\n",
       "      <td>-0.861912</td>\n",
       "      <td>...</td>\n",
       "      <td>1.518928</td>\n",
       "      <td>-0.026672</td>\n",
       "      <td>-0.450039</td>\n",
       "      <td>0.797186</td>\n",
       "      <td>0.595769</td>\n",
       "      <td>0.336912</td>\n",
       "      <td>0.161915</td>\n",
       "      <td>0.666096</td>\n",
       "      <td>0.264102</td>\n",
       "      <td>1.091553</td>\n",
       "    </tr>\n",
       "    <tr>\n",
       "      <th>3</th>\n",
       "      <td>1.247994</td>\n",
       "      <td>1.493465</td>\n",
       "      <td>1.489121</td>\n",
       "      <td>0.926000</td>\n",
       "      <td>0.297579</td>\n",
       "      <td>2.953588</td>\n",
       "      <td>0.380147</td>\n",
       "      <td>2.944590</td>\n",
       "      <td>0.498032</td>\n",
       "      <td>-0.824926</td>\n",
       "      <td>...</td>\n",
       "      <td>1.079949</td>\n",
       "      <td>1.870674</td>\n",
       "      <td>1.599118</td>\n",
       "      <td>1.397985</td>\n",
       "      <td>1.488979</td>\n",
       "      <td>1.873139</td>\n",
       "      <td>1.977922</td>\n",
       "      <td>0.791602</td>\n",
       "      <td>-0.250390</td>\n",
       "      <td>0.762292</td>\n",
       "    </tr>\n",
       "    <tr>\n",
       "      <th>4</th>\n",
       "      <td>-0.726584</td>\n",
       "      <td>0.681077</td>\n",
       "      <td>0.683576</td>\n",
       "      <td>0.747890</td>\n",
       "      <td>-0.769394</td>\n",
       "      <td>-0.405839</td>\n",
       "      <td>0.561986</td>\n",
       "      <td>-0.060934</td>\n",
       "      <td>0.050562</td>\n",
       "      <td>-0.329316</td>\n",
       "      <td>...</td>\n",
       "      <td>-0.195180</td>\n",
       "      <td>-0.135092</td>\n",
       "      <td>-0.323406</td>\n",
       "      <td>-0.579645</td>\n",
       "      <td>1.078585</td>\n",
       "      <td>-0.155160</td>\n",
       "      <td>0.161915</td>\n",
       "      <td>-0.112037</td>\n",
       "      <td>0.668346</td>\n",
       "      <td>1.139014</td>\n",
       "    </tr>\n",
       "    <tr>\n",
       "      <th>...</th>\n",
       "      <td>...</td>\n",
       "      <td>...</td>\n",
       "      <td>...</td>\n",
       "      <td>...</td>\n",
       "      <td>...</td>\n",
       "      <td>...</td>\n",
       "      <td>...</td>\n",
       "      <td>...</td>\n",
       "      <td>...</td>\n",
       "      <td>...</td>\n",
       "      <td>...</td>\n",
       "      <td>...</td>\n",
       "      <td>...</td>\n",
       "      <td>...</td>\n",
       "      <td>...</td>\n",
       "      <td>...</td>\n",
       "      <td>...</td>\n",
       "      <td>...</td>\n",
       "      <td>...</td>\n",
       "      <td>...</td>\n",
       "      <td>...</td>\n",
       "    </tr>\n",
       "    <tr>\n",
       "      <th>621</th>\n",
       "      <td>-0.451062</td>\n",
       "      <td>0.670388</td>\n",
       "      <td>0.668184</td>\n",
       "      <td>-0.249524</td>\n",
       "      <td>-0.009176</td>\n",
       "      <td>-0.416437</td>\n",
       "      <td>0.538674</td>\n",
       "      <td>-0.211452</td>\n",
       "      <td>-0.012364</td>\n",
       "      <td>-0.270139</td>\n",
       "      <td>...</td>\n",
       "      <td>-0.362410</td>\n",
       "      <td>0.894896</td>\n",
       "      <td>0.678149</td>\n",
       "      <td>2.374283</td>\n",
       "      <td>-0.104315</td>\n",
       "      <td>0.264902</td>\n",
       "      <td>0.499777</td>\n",
       "      <td>0.364883</td>\n",
       "      <td>1.660581</td>\n",
       "      <td>-0.603696</td>\n",
       "    </tr>\n",
       "    <tr>\n",
       "      <th>622</th>\n",
       "      <td>1.431676</td>\n",
       "      <td>0.510048</td>\n",
       "      <td>0.509127</td>\n",
       "      <td>0.676646</td>\n",
       "      <td>0.430950</td>\n",
       "      <td>0.399576</td>\n",
       "      <td>-0.417149</td>\n",
       "      <td>2.099741</td>\n",
       "      <td>0.539983</td>\n",
       "      <td>-0.551231</td>\n",
       "      <td>...</td>\n",
       "      <td>0.829104</td>\n",
       "      <td>1.274365</td>\n",
       "      <td>1.622143</td>\n",
       "      <td>1.197719</td>\n",
       "      <td>0.426783</td>\n",
       "      <td>1.105025</td>\n",
       "      <td>1.851224</td>\n",
       "      <td>0.389984</td>\n",
       "      <td>-0.342264</td>\n",
       "      <td>0.149748</td>\n",
       "    </tr>\n",
       "    <tr>\n",
       "      <th>623</th>\n",
       "      <td>1.202074</td>\n",
       "      <td>1.514844</td>\n",
       "      <td>1.519906</td>\n",
       "      <td>2.582421</td>\n",
       "      <td>0.457625</td>\n",
       "      <td>4.988320</td>\n",
       "      <td>0.785789</td>\n",
       "      <td>2.570720</td>\n",
       "      <td>-0.075290</td>\n",
       "      <td>2.052573</td>\n",
       "      <td>...</td>\n",
       "      <td>-0.801388</td>\n",
       "      <td>4.039070</td>\n",
       "      <td>3.740373</td>\n",
       "      <td>0.571887</td>\n",
       "      <td>-0.587131</td>\n",
       "      <td>3.673404</td>\n",
       "      <td>1.977922</td>\n",
       "      <td>0.490389</td>\n",
       "      <td>1.017466</td>\n",
       "      <td>-1.451320</td>\n",
       "    </tr>\n",
       "    <tr>\n",
       "      <th>624</th>\n",
       "      <td>0.513267</td>\n",
       "      <td>0.146611</td>\n",
       "      <td>0.149967</td>\n",
       "      <td>-0.035793</td>\n",
       "      <td>-0.115873</td>\n",
       "      <td>0.463161</td>\n",
       "      <td>-0.016170</td>\n",
       "      <td>0.536287</td>\n",
       "      <td>0.672825</td>\n",
       "      <td>-0.676983</td>\n",
       "      <td>...</td>\n",
       "      <td>1.581639</td>\n",
       "      <td>-0.080882</td>\n",
       "      <td>0.021958</td>\n",
       "      <td>-0.129045</td>\n",
       "      <td>-0.152596</td>\n",
       "      <td>-0.023141</td>\n",
       "      <td>1.006569</td>\n",
       "      <td>0.797877</td>\n",
       "      <td>-0.893506</td>\n",
       "      <td>0.055567</td>\n",
       "    </tr>\n",
       "    <tr>\n",
       "      <th>625</th>\n",
       "      <td>1.615358</td>\n",
       "      <td>0.296262</td>\n",
       "      <td>0.298762</td>\n",
       "      <td>-0.587933</td>\n",
       "      <td>0.257567</td>\n",
       "      <td>1.014234</td>\n",
       "      <td>0.333521</td>\n",
       "      <td>0.992699</td>\n",
       "      <td>1.078346</td>\n",
       "      <td>-0.854515</td>\n",
       "      <td>...</td>\n",
       "      <td>1.665254</td>\n",
       "      <td>-0.351931</td>\n",
       "      <td>-0.588185</td>\n",
       "      <td>-0.704811</td>\n",
       "      <td>1.078585</td>\n",
       "      <td>0.060872</td>\n",
       "      <td>0.415311</td>\n",
       "      <td>1.594837</td>\n",
       "      <td>-0.985379</td>\n",
       "      <td>0.997372</td>\n",
       "    </tr>\n",
       "  </tbody>\n",
       "</table>\n",
       "<p>626 rows × 25 columns</p>\n",
       "</div>"
      ],
      "text/plain": [
       "           GP       MPG  MIN%Minutes Percentage  USG%Usage Rate  \\\n",
       "0    1.110233 -0.794049               -0.794111        0.177939   \n",
       "1   -1.369471 -1.809535               -1.810021       -0.000171   \n",
       "2    0.972472  0.873485                0.868287       -1.211317   \n",
       "3    1.247994  1.493465                1.489121        0.926000   \n",
       "4   -0.726584  0.681077                0.683576        0.747890   \n",
       "..        ...       ...                     ...             ...   \n",
       "621 -0.451062  0.670388                0.668184       -0.249524   \n",
       "622  1.431676  0.510048                0.509127        0.676646   \n",
       "623  1.202074  1.514844                1.519906        2.582421   \n",
       "624  0.513267  0.146611                0.149967       -0.035793   \n",
       "625  1.615358  0.296262                0.298762       -0.587933   \n",
       "\n",
       "     TO%Turnover Rate       FTA        FT       2PA        2P       3PA  ...  \\\n",
       "0            0.097521  0.367783 -0.971993  0.201261  0.309256 -0.876707  ...   \n",
       "1           -1.702996 -0.797949 -3.345231 -0.871794 -2.340610 -0.869309  ...   \n",
       "2            0.657682  0.632722 -1.275058  0.579986  0.826644 -0.861912  ...   \n",
       "3            0.297579  2.953588  0.380147  2.944590  0.498032 -0.824926  ...   \n",
       "4           -0.769394 -0.405839  0.561986 -0.060934  0.050562 -0.329316  ...   \n",
       "..                ...       ...       ...       ...       ...       ...  ...   \n",
       "621         -0.009176 -0.416437  0.538674 -0.211452 -0.012364 -0.270139  ...   \n",
       "622          0.430950  0.399576 -0.417149  2.099741  0.539983 -0.551231  ...   \n",
       "623          0.457625  4.988320  0.785789  2.570720 -0.075290  2.052573  ...   \n",
       "624         -0.115873  0.463161 -0.016170  0.536287  0.672825 -0.676983  ...   \n",
       "625          0.257567  1.014234  0.333521  0.992699  1.078346 -0.854515  ...   \n",
       "\n",
       "     TRB%Total Rebound Percentage  APGAssists per game.  Assist Percentage  \\\n",
       "0                        1.247179             -0.785610          -0.795403   \n",
       "1                       -0.299698             -0.894030          -0.047115   \n",
       "2                        1.518928             -0.026672          -0.450039   \n",
       "3                        1.079949              1.870674           1.599118   \n",
       "4                       -0.195180             -0.135092          -0.323406   \n",
       "..                            ...                   ...                ...   \n",
       "621                     -0.362410              0.894896           0.678149   \n",
       "622                      0.829104              1.274365           1.622143   \n",
       "623                     -0.801388              4.039070           3.740373   \n",
       "624                      1.581639             -0.080882           0.021958   \n",
       "625                      1.665254             -0.351931          -0.588185   \n",
       "\n",
       "     SPGSteals per game.  BPGBlocks per game.  TOPGTurnovers per game.  \\\n",
       "0              -0.704811             0.112953                -0.455204   \n",
       "1              -1.530910            -0.997524                -1.295328   \n",
       "2               0.797186             0.595769                 0.336912   \n",
       "3               1.397985             1.488979                 1.873139   \n",
       "4              -0.579645             1.078585                -0.155160   \n",
       "..                   ...                  ...                      ...   \n",
       "621             2.374283            -0.104315                 0.264902   \n",
       "622             1.197719             0.426783                 1.105025   \n",
       "623             0.571887            -0.587131                 3.673404   \n",
       "624            -0.129045            -0.152596                -0.023141   \n",
       "625            -0.704811             1.078585                 0.060872   \n",
       "\n",
       "           VI      ORTG      DRTG  WingSpan(cm)  \n",
       "0   -0.091482 -0.143414 -1.224251      0.385570  \n",
       "1   -0.767206       NaN       NaN     -0.792057  \n",
       "2    0.161915  0.666096  0.264102      1.091553  \n",
       "3    1.977922  0.791602 -0.250390      0.762292  \n",
       "4    0.161915 -0.112037  0.668346      1.139014  \n",
       "..        ...       ...       ...           ...  \n",
       "621  0.499777  0.364883  1.660581     -0.603696  \n",
       "622  1.851224  0.389984 -0.342264      0.149748  \n",
       "623  1.977922  0.490389  1.017466     -1.451320  \n",
       "624  1.006569  0.797877 -0.893506      0.055567  \n",
       "625  0.415311  1.594837 -0.985379      0.997372  \n",
       "\n",
       "[626 rows x 25 columns]"
      ]
     },
     "execution_count": 158,
     "metadata": {},
     "output_type": "execute_result"
    }
   ],
   "source": [
    "df1"
   ]
  },
  {
   "cell_type": "code",
   "execution_count": 159,
   "metadata": {},
   "outputs": [],
   "source": [
    "df1['Name']=df['FULL NAME']"
   ]
  },
  {
   "cell_type": "code",
   "execution_count": 160,
   "metadata": {},
   "outputs": [],
   "source": [
    "df1['POS']=df['POS']"
   ]
  },
  {
   "cell_type": "code",
   "execution_count": 161,
   "metadata": {},
   "outputs": [
    {
     "data": {
      "text/html": [
       "<div>\n",
       "<style scoped>\n",
       "    .dataframe tbody tr th:only-of-type {\n",
       "        vertical-align: middle;\n",
       "    }\n",
       "\n",
       "    .dataframe tbody tr th {\n",
       "        vertical-align: top;\n",
       "    }\n",
       "\n",
       "    .dataframe thead th {\n",
       "        text-align: right;\n",
       "    }\n",
       "</style>\n",
       "<table border=\"1\" class=\"dataframe\">\n",
       "  <thead>\n",
       "    <tr style=\"text-align: right;\">\n",
       "      <th></th>\n",
       "      <th>GP</th>\n",
       "      <th>MPG</th>\n",
       "      <th>MIN%Minutes Percentage</th>\n",
       "      <th>USG%Usage Rate</th>\n",
       "      <th>TO%Turnover Rate</th>\n",
       "      <th>FTA</th>\n",
       "      <th>FT</th>\n",
       "      <th>2PA</th>\n",
       "      <th>2P</th>\n",
       "      <th>3PA</th>\n",
       "      <th>...</th>\n",
       "      <th>Assist Percentage</th>\n",
       "      <th>SPGSteals per game.</th>\n",
       "      <th>BPGBlocks per game.</th>\n",
       "      <th>TOPGTurnovers per game.</th>\n",
       "      <th>VI</th>\n",
       "      <th>ORTG</th>\n",
       "      <th>DRTG</th>\n",
       "      <th>WingSpan(cm)</th>\n",
       "      <th>Name</th>\n",
       "      <th>POS</th>\n",
       "    </tr>\n",
       "  </thead>\n",
       "  <tbody>\n",
       "    <tr>\n",
       "      <th>0</th>\n",
       "      <td>1.110233</td>\n",
       "      <td>-0.794049</td>\n",
       "      <td>-0.794111</td>\n",
       "      <td>0.177939</td>\n",
       "      <td>0.097521</td>\n",
       "      <td>0.367783</td>\n",
       "      <td>-0.971993</td>\n",
       "      <td>0.201261</td>\n",
       "      <td>0.309256</td>\n",
       "      <td>-0.876707</td>\n",
       "      <td>...</td>\n",
       "      <td>-0.795403</td>\n",
       "      <td>-0.704811</td>\n",
       "      <td>0.112953</td>\n",
       "      <td>-0.455204</td>\n",
       "      <td>-0.091482</td>\n",
       "      <td>-0.143414</td>\n",
       "      <td>-1.224251</td>\n",
       "      <td>0.385570</td>\n",
       "      <td>Precious Achiuwa</td>\n",
       "      <td>F</td>\n",
       "    </tr>\n",
       "    <tr>\n",
       "      <th>1</th>\n",
       "      <td>-1.369471</td>\n",
       "      <td>-1.809535</td>\n",
       "      <td>-1.810021</td>\n",
       "      <td>-0.000171</td>\n",
       "      <td>-1.702996</td>\n",
       "      <td>-0.797949</td>\n",
       "      <td>-3.345231</td>\n",
       "      <td>-0.871794</td>\n",
       "      <td>-2.340610</td>\n",
       "      <td>-0.869309</td>\n",
       "      <td>...</td>\n",
       "      <td>-0.047115</td>\n",
       "      <td>-1.530910</td>\n",
       "      <td>-0.997524</td>\n",
       "      <td>-1.295328</td>\n",
       "      <td>-0.767206</td>\n",
       "      <td>NaN</td>\n",
       "      <td>NaN</td>\n",
       "      <td>-0.792057</td>\n",
       "      <td>Jaylen Adams</td>\n",
       "      <td>G</td>\n",
       "    </tr>\n",
       "    <tr>\n",
       "      <th>2</th>\n",
       "      <td>0.972472</td>\n",
       "      <td>0.873485</td>\n",
       "      <td>0.868287</td>\n",
       "      <td>-1.211317</td>\n",
       "      <td>0.657682</td>\n",
       "      <td>0.632722</td>\n",
       "      <td>-1.275058</td>\n",
       "      <td>0.579986</td>\n",
       "      <td>0.826644</td>\n",
       "      <td>-0.861912</td>\n",
       "      <td>...</td>\n",
       "      <td>-0.450039</td>\n",
       "      <td>0.797186</td>\n",
       "      <td>0.595769</td>\n",
       "      <td>0.336912</td>\n",
       "      <td>0.161915</td>\n",
       "      <td>0.666096</td>\n",
       "      <td>0.264102</td>\n",
       "      <td>1.091553</td>\n",
       "      <td>Steven Adams</td>\n",
       "      <td>C</td>\n",
       "    </tr>\n",
       "    <tr>\n",
       "      <th>3</th>\n",
       "      <td>1.247994</td>\n",
       "      <td>1.493465</td>\n",
       "      <td>1.489121</td>\n",
       "      <td>0.926000</td>\n",
       "      <td>0.297579</td>\n",
       "      <td>2.953588</td>\n",
       "      <td>0.380147</td>\n",
       "      <td>2.944590</td>\n",
       "      <td>0.498032</td>\n",
       "      <td>-0.824926</td>\n",
       "      <td>...</td>\n",
       "      <td>1.599118</td>\n",
       "      <td>1.397985</td>\n",
       "      <td>1.488979</td>\n",
       "      <td>1.873139</td>\n",
       "      <td>1.977922</td>\n",
       "      <td>0.791602</td>\n",
       "      <td>-0.250390</td>\n",
       "      <td>0.762292</td>\n",
       "      <td>Bam Adebayo</td>\n",
       "      <td>C-F</td>\n",
       "    </tr>\n",
       "    <tr>\n",
       "      <th>4</th>\n",
       "      <td>-0.726584</td>\n",
       "      <td>0.681077</td>\n",
       "      <td>0.683576</td>\n",
       "      <td>0.747890</td>\n",
       "      <td>-0.769394</td>\n",
       "      <td>-0.405839</td>\n",
       "      <td>0.561986</td>\n",
       "      <td>-0.060934</td>\n",
       "      <td>0.050562</td>\n",
       "      <td>-0.329316</td>\n",
       "      <td>...</td>\n",
       "      <td>-0.323406</td>\n",
       "      <td>-0.579645</td>\n",
       "      <td>1.078585</td>\n",
       "      <td>-0.155160</td>\n",
       "      <td>0.161915</td>\n",
       "      <td>-0.112037</td>\n",
       "      <td>0.668346</td>\n",
       "      <td>1.139014</td>\n",
       "      <td>LaMarcus Aldridge</td>\n",
       "      <td>C-F</td>\n",
       "    </tr>\n",
       "    <tr>\n",
       "      <th>...</th>\n",
       "      <td>...</td>\n",
       "      <td>...</td>\n",
       "      <td>...</td>\n",
       "      <td>...</td>\n",
       "      <td>...</td>\n",
       "      <td>...</td>\n",
       "      <td>...</td>\n",
       "      <td>...</td>\n",
       "      <td>...</td>\n",
       "      <td>...</td>\n",
       "      <td>...</td>\n",
       "      <td>...</td>\n",
       "      <td>...</td>\n",
       "      <td>...</td>\n",
       "      <td>...</td>\n",
       "      <td>...</td>\n",
       "      <td>...</td>\n",
       "      <td>...</td>\n",
       "      <td>...</td>\n",
       "      <td>...</td>\n",
       "      <td>...</td>\n",
       "    </tr>\n",
       "    <tr>\n",
       "      <th>621</th>\n",
       "      <td>-0.451062</td>\n",
       "      <td>0.670388</td>\n",
       "      <td>0.668184</td>\n",
       "      <td>-0.249524</td>\n",
       "      <td>-0.009176</td>\n",
       "      <td>-0.416437</td>\n",
       "      <td>0.538674</td>\n",
       "      <td>-0.211452</td>\n",
       "      <td>-0.012364</td>\n",
       "      <td>-0.270139</td>\n",
       "      <td>...</td>\n",
       "      <td>0.678149</td>\n",
       "      <td>2.374283</td>\n",
       "      <td>-0.104315</td>\n",
       "      <td>0.264902</td>\n",
       "      <td>0.499777</td>\n",
       "      <td>0.364883</td>\n",
       "      <td>1.660581</td>\n",
       "      <td>-0.603696</td>\n",
       "      <td>Delon Wright</td>\n",
       "      <td>G</td>\n",
       "    </tr>\n",
       "    <tr>\n",
       "      <th>622</th>\n",
       "      <td>1.431676</td>\n",
       "      <td>0.510048</td>\n",
       "      <td>0.509127</td>\n",
       "      <td>0.676646</td>\n",
       "      <td>0.430950</td>\n",
       "      <td>0.399576</td>\n",
       "      <td>-0.417149</td>\n",
       "      <td>2.099741</td>\n",
       "      <td>0.539983</td>\n",
       "      <td>-0.551231</td>\n",
       "      <td>...</td>\n",
       "      <td>1.622143</td>\n",
       "      <td>1.197719</td>\n",
       "      <td>0.426783</td>\n",
       "      <td>1.105025</td>\n",
       "      <td>1.851224</td>\n",
       "      <td>0.389984</td>\n",
       "      <td>-0.342264</td>\n",
       "      <td>0.149748</td>\n",
       "      <td>Thaddeus Young</td>\n",
       "      <td>F</td>\n",
       "    </tr>\n",
       "    <tr>\n",
       "      <th>623</th>\n",
       "      <td>1.202074</td>\n",
       "      <td>1.514844</td>\n",
       "      <td>1.519906</td>\n",
       "      <td>2.582421</td>\n",
       "      <td>0.457625</td>\n",
       "      <td>4.988320</td>\n",
       "      <td>0.785789</td>\n",
       "      <td>2.570720</td>\n",
       "      <td>-0.075290</td>\n",
       "      <td>2.052573</td>\n",
       "      <td>...</td>\n",
       "      <td>3.740373</td>\n",
       "      <td>0.571887</td>\n",
       "      <td>-0.587131</td>\n",
       "      <td>3.673404</td>\n",
       "      <td>1.977922</td>\n",
       "      <td>0.490389</td>\n",
       "      <td>1.017466</td>\n",
       "      <td>-1.451320</td>\n",
       "      <td>Trae Young</td>\n",
       "      <td>G</td>\n",
       "    </tr>\n",
       "    <tr>\n",
       "      <th>624</th>\n",
       "      <td>0.513267</td>\n",
       "      <td>0.146611</td>\n",
       "      <td>0.149967</td>\n",
       "      <td>-0.035793</td>\n",
       "      <td>-0.115873</td>\n",
       "      <td>0.463161</td>\n",
       "      <td>-0.016170</td>\n",
       "      <td>0.536287</td>\n",
       "      <td>0.672825</td>\n",
       "      <td>-0.676983</td>\n",
       "      <td>...</td>\n",
       "      <td>0.021958</td>\n",
       "      <td>-0.129045</td>\n",
       "      <td>-0.152596</td>\n",
       "      <td>-0.023141</td>\n",
       "      <td>1.006569</td>\n",
       "      <td>0.797877</td>\n",
       "      <td>-0.893506</td>\n",
       "      <td>0.055567</td>\n",
       "      <td>Cody Zeller</td>\n",
       "      <td>F-C</td>\n",
       "    </tr>\n",
       "    <tr>\n",
       "      <th>625</th>\n",
       "      <td>1.615358</td>\n",
       "      <td>0.296262</td>\n",
       "      <td>0.298762</td>\n",
       "      <td>-0.587933</td>\n",
       "      <td>0.257567</td>\n",
       "      <td>1.014234</td>\n",
       "      <td>0.333521</td>\n",
       "      <td>0.992699</td>\n",
       "      <td>1.078346</td>\n",
       "      <td>-0.854515</td>\n",
       "      <td>...</td>\n",
       "      <td>-0.588185</td>\n",
       "      <td>-0.704811</td>\n",
       "      <td>1.078585</td>\n",
       "      <td>0.060872</td>\n",
       "      <td>0.415311</td>\n",
       "      <td>1.594837</td>\n",
       "      <td>-0.985379</td>\n",
       "      <td>0.997372</td>\n",
       "      <td>Ivica Zubac</td>\n",
       "      <td>C</td>\n",
       "    </tr>\n",
       "  </tbody>\n",
       "</table>\n",
       "<p>626 rows × 27 columns</p>\n",
       "</div>"
      ],
      "text/plain": [
       "           GP       MPG  MIN%Minutes Percentage  USG%Usage Rate  \\\n",
       "0    1.110233 -0.794049               -0.794111        0.177939   \n",
       "1   -1.369471 -1.809535               -1.810021       -0.000171   \n",
       "2    0.972472  0.873485                0.868287       -1.211317   \n",
       "3    1.247994  1.493465                1.489121        0.926000   \n",
       "4   -0.726584  0.681077                0.683576        0.747890   \n",
       "..        ...       ...                     ...             ...   \n",
       "621 -0.451062  0.670388                0.668184       -0.249524   \n",
       "622  1.431676  0.510048                0.509127        0.676646   \n",
       "623  1.202074  1.514844                1.519906        2.582421   \n",
       "624  0.513267  0.146611                0.149967       -0.035793   \n",
       "625  1.615358  0.296262                0.298762       -0.587933   \n",
       "\n",
       "     TO%Turnover Rate       FTA        FT       2PA        2P       3PA  ...  \\\n",
       "0            0.097521  0.367783 -0.971993  0.201261  0.309256 -0.876707  ...   \n",
       "1           -1.702996 -0.797949 -3.345231 -0.871794 -2.340610 -0.869309  ...   \n",
       "2            0.657682  0.632722 -1.275058  0.579986  0.826644 -0.861912  ...   \n",
       "3            0.297579  2.953588  0.380147  2.944590  0.498032 -0.824926  ...   \n",
       "4           -0.769394 -0.405839  0.561986 -0.060934  0.050562 -0.329316  ...   \n",
       "..                ...       ...       ...       ...       ...       ...  ...   \n",
       "621         -0.009176 -0.416437  0.538674 -0.211452 -0.012364 -0.270139  ...   \n",
       "622          0.430950  0.399576 -0.417149  2.099741  0.539983 -0.551231  ...   \n",
       "623          0.457625  4.988320  0.785789  2.570720 -0.075290  2.052573  ...   \n",
       "624         -0.115873  0.463161 -0.016170  0.536287  0.672825 -0.676983  ...   \n",
       "625          0.257567  1.014234  0.333521  0.992699  1.078346 -0.854515  ...   \n",
       "\n",
       "     Assist Percentage  SPGSteals per game.  BPGBlocks per game.  \\\n",
       "0            -0.795403            -0.704811             0.112953   \n",
       "1            -0.047115            -1.530910            -0.997524   \n",
       "2            -0.450039             0.797186             0.595769   \n",
       "3             1.599118             1.397985             1.488979   \n",
       "4            -0.323406            -0.579645             1.078585   \n",
       "..                 ...                  ...                  ...   \n",
       "621           0.678149             2.374283            -0.104315   \n",
       "622           1.622143             1.197719             0.426783   \n",
       "623           3.740373             0.571887            -0.587131   \n",
       "624           0.021958            -0.129045            -0.152596   \n",
       "625          -0.588185            -0.704811             1.078585   \n",
       "\n",
       "     TOPGTurnovers per game.        VI      ORTG      DRTG  WingSpan(cm)  \\\n",
       "0                  -0.455204 -0.091482 -0.143414 -1.224251      0.385570   \n",
       "1                  -1.295328 -0.767206       NaN       NaN     -0.792057   \n",
       "2                   0.336912  0.161915  0.666096  0.264102      1.091553   \n",
       "3                   1.873139  1.977922  0.791602 -0.250390      0.762292   \n",
       "4                  -0.155160  0.161915 -0.112037  0.668346      1.139014   \n",
       "..                       ...       ...       ...       ...           ...   \n",
       "621                 0.264902  0.499777  0.364883  1.660581     -0.603696   \n",
       "622                 1.105025  1.851224  0.389984 -0.342264      0.149748   \n",
       "623                 3.673404  1.977922  0.490389  1.017466     -1.451320   \n",
       "624                -0.023141  1.006569  0.797877 -0.893506      0.055567   \n",
       "625                 0.060872  0.415311  1.594837 -0.985379      0.997372   \n",
       "\n",
       "                  Name  POS  \n",
       "0     Precious Achiuwa    F  \n",
       "1         Jaylen Adams    G  \n",
       "2         Steven Adams    C  \n",
       "3          Bam Adebayo  C-F  \n",
       "4    LaMarcus Aldridge  C-F  \n",
       "..                 ...  ...  \n",
       "621       Delon Wright    G  \n",
       "622     Thaddeus Young    F  \n",
       "623         Trae Young    G  \n",
       "624        Cody Zeller  F-C  \n",
       "625        Ivica Zubac    C  \n",
       "\n",
       "[626 rows x 27 columns]"
      ]
     },
     "execution_count": 161,
     "metadata": {},
     "output_type": "execute_result"
    }
   ],
   "source": [
    "df1"
   ]
  },
  {
   "cell_type": "code",
   "execution_count": 162,
   "metadata": {},
   "outputs": [
    {
     "name": "stdout",
     "output_type": "stream",
     "text": [
      "Size of dataset:  595\n",
      "Training dataset:             GP       MPG  MIN%Minutes Percentage  USG%Usage Rate  \\\n",
      "388  0.099983 -1.381962               -1.379029       -0.107037   \n",
      "88   0.651028  0.488669                0.488604       -0.890720   \n",
      "492 -1.599073 -0.248894               -0.255371        0.231372   \n",
      "63   0.145904 -0.933010               -0.932644       -1.478482   \n",
      "313  0.329585  0.210747                0.206406       -0.748232   \n",
      "..        ...       ...                     ...             ...   \n",
      "11  -0.910266  0.221436                0.216668       -0.748232   \n",
      "182  1.523517 -0.024418               -0.019351       -0.000171   \n",
      "565  0.742869  0.146611                0.144836       -1.335994   \n",
      "387 -0.956187 -0.794049               -0.794111       -0.053604   \n",
      "567  0.605108  1.525533                1.525037        1.887793   \n",
      "\n",
      "     TO%Turnover Rate       FTA        FT       2PA        2P       eFG  ...  \\\n",
      "388         -1.076149 -0.607193 -0.752853 -0.638732  0.637867  0.786310  ...   \n",
      "88          -0.302594 -0.469425  0.412785 -0.323128 -0.040331  0.645243  ...   \n",
      "492         -1.702996 -0.797949 -3.345231 -0.881505 -0.012364 -0.840101  ...   \n",
      "63           1.057797 -0.713169 -0.431137 -0.735841 -0.012364 -0.466690  ...   \n",
      "313          0.164207 -0.299864  0.226283 -0.143476  0.078529 -0.010300  ...   \n",
      "..                ...       ...       ...       ...       ...       ...  ...   \n",
      "11           1.044460 -0.617791  0.496711 -0.619310 -0.012364 -0.524776  ...   \n",
      "182         -0.729383 -0.151498  0.244933  0.011898  0.064545  0.919078  ...   \n",
      "565          1.204506 -0.469425 -0.034820 -0.332839  1.511833  1.325680  ...   \n",
      "387         -0.542663 -0.713169  0.151682 -0.677576  0.442098  0.827800  ...   \n",
      "567          0.124196  2.497893  0.659900  1.818125  0.274297  0.396303  ...   \n",
      "\n",
      "     Assist Percentage  SPGSteals per game.  BPGBlocks per game.  \\\n",
      "388          -1.083206            -1.080310            -0.997524   \n",
      "88           -0.530624             0.346587            -0.418145   \n",
      "492          -0.496088            -1.530910            -0.997524   \n",
      "63           -0.749355            -0.829977            -0.442286   \n",
      "313           0.217664             0.621953            -0.514708   \n",
      "..                 ...                  ...                  ...   \n",
      "11           -0.185261             0.972419             0.281938   \n",
      "182          -0.979597            -0.704811            -0.973384   \n",
      "565           0.586052             0.396654             0.185375   \n",
      "387           0.068006            -0.279245            -0.852680   \n",
      "567           1.104097             0.371620             1.754528   \n",
      "\n",
      "     TOPGTurnovers per game.        VI      ORTG      DRTG  WingSpan(cm)  \\\n",
      "388                -1.139305 -0.471576  0.835529 -1.095628      0.432289   \n",
      "88                 -0.335187 -0.344878  0.314681  0.686721     -0.226974   \n",
      "492                -1.295328 -0.429344 -0.883896  1.770830      0.432289   \n",
      "63                 -0.635231 -0.936137 -1.235311 -0.764883      0.243928   \n",
      "313                -0.095151 -0.260413 -0.049285  0.833718     -0.980418   \n",
      "..                       ...       ...       ...       ...           ...   \n",
      "11                  0.468932 -0.049249 -1.009401  0.392725      0.856472   \n",
      "182                -0.539217 -1.062835  0.559417  0.962342     -1.074598   \n",
      "565                 0.108879  0.415311  0.728849 -0.728133      0.243928   \n",
      "387                -0.767250 -0.133715  0.691198  0.778594     -1.074598   \n",
      "567                 2.545237  2.358017  0.459012 -0.176891      0.997372   \n",
      "\n",
      "                      Name  POS  \n",
      "388       Alfonzo McKinnie    F  \n",
      "88          Sterling Brown  G-F  \n",
      "492       Cameron Reynolds    F  \n",
      "63             Isaac Bonga    G  \n",
      "313            Cory Joseph    G  \n",
      "..                     ...  ...  \n",
      "11         Al-Farouq Aminu    F  \n",
      "182            Bryn Forbes    G  \n",
      "565  Juan Toscano-Anderson    F  \n",
      "387        Rodney McGruder    G  \n",
      "567     Karl-Anthony Towns  C-F  \n",
      "\n",
      "[357 rows x 25 columns]\n"
     ]
    },
    {
     "name": "stderr",
     "output_type": "stream",
     "text": [
      "<ipython-input-162-3e0f901cff74>:2: UserWarning: Boolean Series key will be reindexed to match DataFrame index.\n",
      "  df1 = df1[~df['3P'].isna()]\n"
     ]
    }
   ],
   "source": [
    "df1 = df1.dropna()\n",
    "df1 = df1[~df['3P'].isna()] \n",
    "df1 = df1.sample(frac = 1) \n",
    "train_proportion = 0.6\n",
    "n = len(df1)\n",
    "print('Size of dataset: ', str(n))\n",
    "\n",
    "t = int(train_proportion * n)\n",
    "target = df1['3P']\n",
    "target_columns = ['3PA','3P']\n",
    "data = df1.loc[:, ~df1.columns.isin(target_columns)]\n",
    "# the following variable records the features of examples in the training set\n",
    "train_x = data.iloc[:t]\n",
    "# the following variable records the features of examples in the test set\n",
    "test_x = data.iloc[t:]\n",
    "# the following variable records the labels of examples in the training set\n",
    "train_y = target[:t]\n",
    "# the following variable records the labels of examples in the test set\n",
    "test_y = target[t:]\n",
    "\n",
    "print('Training dataset: ', train_x)"
   ]
  },
  {
   "cell_type": "code",
   "execution_count": 163,
   "metadata": {},
   "outputs": [],
   "source": [
    "def string_to_float(string):\n",
    "     try:\n",
    "        return float(string)\n",
    "     except:\n",
    "        return 0.0\n",
    "    \n",
    "labels_real = [\n",
    " 'GP',   \n",
    " 'MPG',\n",
    " 'WingSpan(cm)', \n",
    " 'FT',\n",
    " 'VI',\n",
    " 'PPGPoints per game.',\n",
    " 'ORTG','2P',\n",
    " 'RPGRebounds per game.',\n",
    " 'TOPGTurnovers per game.',\n",
    " 'BPGBlocks per game.',\n",
    " 'SPGSteals per game.'\n",
    "]\n",
    "\n",
    "#labels_string = [\n",
    "    #'POS',\n",
    "    \n",
    "#]\n",
    "\n"
   ]
  },
  {
   "cell_type": "code",
   "execution_count": 164,
   "metadata": {},
   "outputs": [],
   "source": [
    "train_vals_real = np.asarray(train_x[labels_real])\n",
    "\n",
    "test_vals_real = np.asarray(test_x[labels_real])"
   ]
  },
  {
   "cell_type": "code",
   "execution_count": 165,
   "metadata": {},
   "outputs": [],
   "source": [
    "#assert(train_vals_from_string.applymap(lambda x:type(x)!=str).all(skipna=False).all(skipna=False) == True)\n",
    "#assert(test_vals_from_string.applymap(lambda x:type(x)!=str).all(skipna=False).all(skipna=False) == True)"
   ]
  },
  {
   "cell_type": "code",
   "execution_count": 166,
   "metadata": {},
   "outputs": [],
   "source": [
    "#train_vals_from_string = np.asarray(train_vals_from_string)\n",
    "#test_vals_from_string = np.asarray(test_vals_from_string)"
   ]
  },
  {
   "cell_type": "code",
   "execution_count": 167,
   "metadata": {},
   "outputs": [],
   "source": [
    "train_vals = np.concatenate((train_vals_real,np.ones((len(train_vals_real[:,0]),1))), axis = 1)\n",
    "\n",
    "test_vals = np.concatenate((test_vals_real,np.ones((len(test_vals_real[:,0]),1))), axis = 1)\n"
   ]
  },
  {
   "cell_type": "code",
   "execution_count": 168,
   "metadata": {},
   "outputs": [],
   "source": [
    "def MSE(y, pred):\n",
    "    return np.mean(np.power(np.subtract(y,pred),2)) \n",
    "\n",
    "# This function plots the main diagonal;for a \"predicted vs true\" plot with perfect predictions, all data lies on this line\n",
    "def plotDiagonal(xmin, xmax):\n",
    "    xsamples = np.arange(xmin,xmax,step=0.01)\n",
    "    plt.plot(xsamples,xsamples,c='black')\n",
    "\n",
    "# This helper function plots x vs y and labels the axes\n",
    "def plotdata(x=None,y=None,xname=None,yname=None,margin=0.05,plotDiag=True,zeromin=False):\n",
    "    plt.scatter(x,y,label='data')\n",
    "    plt.xlabel(xname)\n",
    "    plt.ylabel(yname)\n",
    "    range_x = max(x) - min(x)\n",
    "    range_y = max(y) - min(y)\n",
    "    if plotDiag:\n",
    "        plotDiagonal(min(x)-margin*range_x,max(x)+margin*range_x)\n",
    "    if zeromin:\n",
    "        plt.xlim(0.0,max(x)+margin*range_x)\n",
    "        plt.ylim(0.0,max(y)+margin*range_y)\n",
    "    else:\n",
    "        plt.xlim(min(x)-margin*range_x,max(x)+margin*range_x)\n",
    "        plt.ylim(min(y)-margin*range_y,max(y)+margin*range_y)\n",
    "    plt.show()\n",
    "\n",
    "# This function plots the predicted labels vs the actual labels (We only plot the first 1000 points to avoid slow plots)\n",
    "def plot_pred_true(test_pred=None, test_y=None, max_points = 1000):\n",
    "    plotdata(test_pred[1:max_points], test_y[1:max_points],'Predicted', 'True', zeromin=True)"
   ]
  },
  {
   "cell_type": "code",
   "execution_count": 169,
   "metadata": {},
   "outputs": [],
   "source": [
    "# This function runs OLS and bypasses any SVD (Singular Value Decomposition) convergence errors by refitting the model\n",
    "def run_OLS(train_y, test_y, train_vals, test_vals):\n",
    "    ols_model = sm.regression.linear_model.OLS(train_y, train_vals)\n",
    "    while True: # Bypasses SVD convergence assertion error\n",
    "        try:\n",
    "            results = ols_model.fit()\n",
    "            break\n",
    "        except:\n",
    "            None\n",
    "            \n",
    "    w = np.array(results.params).reshape([len(results.params),1])\n",
    "\n",
    "    train_pred = np.matmul(train_vals,w)\n",
    "    test_pred = np.matmul(test_vals,w)\n",
    "\n",
    "    train_MSE = MSE(train_y, train_pred.flatten())\n",
    "    test_MSE = MSE(test_y, test_pred.flatten())\n",
    "    \n",
    "    return train_MSE, test_MSE, test_pred,w"
   ]
  },
  {
   "cell_type": "code",
   "execution_count": 170,
   "metadata": {},
   "outputs": [],
   "source": [
    "train_MSE, test_MSE, test_pred,w = run_OLS(train_y, test_y, train_vals, test_vals)"
   ]
  },
  {
   "cell_type": "code",
   "execution_count": 171,
   "metadata": {},
   "outputs": [
    {
     "name": "stdout",
     "output_type": "stream",
     "text": [
      "Train MSE\t 0.562899905995806\n",
      "Test MSE\t 0.6673015209477892\n"
     ]
    },
    {
     "data": {
      "image/png": "[encoded data removed]",
      "text/plain": [
       "<Figure size 432x288 with 1 Axes>"
      ]
     },
     "metadata": {
      "needs_background": "light"
     },
     "output_type": "display_data"
    }
   ],
   "source": [
    "print(\"Train MSE\\t\", str(train_MSE))\n",
    "print(\"Test MSE\\t\", str(test_MSE))\n",
    "\n",
    "plot_pred_true(test_pred.flatten(), test_y) #.flatten() will make sure the dimensions match"
   ]
  },
  {
   "cell_type": "code",
   "execution_count": 172,
   "metadata": {},
   "outputs": [],
   "source": [
    "cat_labels = [\n",
    "  'POS'\n",
    "]\n",
    "\n",
    "#Sets of all categories in a particular column\n",
    "cats_sets = [train_x.loc[:, label].fillna('NaN').unique() for label in cat_labels]"
   ]
  },
  {
   "cell_type": "code",
   "execution_count": 173,
   "metadata": {},
   "outputs": [],
   "source": [
    "def onehot(column=None, col=None):\n",
    "    column = column.astype(pd.CategoricalDtype(categories = col))\n",
    "    hot_encode = pd.get_dummies(column)\n",
    "    \n",
    "    return np.asarray(hot_encode)"
   ]
  },
  {
   "cell_type": "code",
   "execution_count": 174,
   "metadata": {},
   "outputs": [],
   "source": [
    "trv = np.zeros((len(train_x),1))\n",
    "for i in range(len(cat_labels)):\n",
    "    trv = np.concatenate((trv,onehot(train_x[cat_labels[i]],cats_sets[i])),axis = 1)\n",
    "     \n",
    "train_cat_vals = trv[:,1:]\n",
    "\n",
    "tv = np.zeros((len(test_x),1))\n",
    "for i in range(len(cat_labels)):\n",
    "    tv = np.concatenate((tv,onehot(test_x[cat_labels[i]],cats_sets[i])),axis = 1)\n",
    "    \n",
    "test_cat_vals = tv[:,1:]"
   ]
  },
  {
   "cell_type": "code",
   "execution_count": 175,
   "metadata": {},
   "outputs": [
    {
     "data": {
      "text/plain": [
       "(357, 7)"
      ]
     },
     "execution_count": 175,
     "metadata": {},
     "output_type": "execute_result"
    }
   ],
   "source": [
    "train_cat_vals.shape"
   ]
  },
  {
   "cell_type": "code",
   "execution_count": 176,
   "metadata": {},
   "outputs": [],
   "source": [
    "train_vals1 = np.concatenate((train_vals,train_cat_vals),axis = 1)\n",
    "test_vals1 = np.concatenate((test_vals,test_cat_vals),axis = 1)"
   ]
  },
  {
   "cell_type": "code",
   "execution_count": 177,
   "metadata": {},
   "outputs": [
    {
     "data": {
      "text/plain": [
       "(357, 20)"
      ]
     },
     "execution_count": 177,
     "metadata": {},
     "output_type": "execute_result"
    }
   ],
   "source": [
    "train_vals1.shape"
   ]
  },
  {
   "cell_type": "code",
   "execution_count": 178,
   "metadata": {},
   "outputs": [],
   "source": [
    "train_ridge = np.concatenate((train_vals_real,train_cat_vals),axis = 1)"
   ]
  },
  {
   "cell_type": "code",
   "execution_count": 179,
   "metadata": {},
   "outputs": [],
   "source": [
    "test_ridge = np.concatenate((test_vals_real,test_cat_vals),axis = 1)"
   ]
  },
  {
   "cell_type": "code",
   "execution_count": 180,
   "metadata": {},
   "outputs": [],
   "source": [
    "train_MSE, test_MSE, test_pred,w = run_OLS(train_y, test_y, train_vals1, test_vals1)"
   ]
  },
  {
   "cell_type": "code",
   "execution_count": 181,
   "metadata": {},
   "outputs": [
    {
     "name": "stdout",
     "output_type": "stream",
     "text": [
      "Train MSE\t 0.5549454499930893\n",
      "Test MSE\t 0.6658533409049002\n"
     ]
    },
    {
     "data": {
      "image/png": "[encoded data removed]",
      "text/plain": [
       "<Figure size 432x288 with 1 Axes>"
      ]
     },
     "metadata": {
      "needs_background": "light"
     },
     "output_type": "display_data"
    }
   ],
   "source": [
    "print(\"Train MSE\\t\", str(train_MSE))\n",
    "print(\"Test MSE\\t\", str(test_MSE))\n",
    "\n",
    "plot_pred_true(test_pred.flatten(), test_y)"
   ]
  },
  {
   "cell_type": "code",
   "execution_count": 182,
   "metadata": {},
   "outputs": [
    {
     "data": {
      "text/plain": [
       "array([ 1.79114601e-01, -1.69545992e-01, -9.50912518e-01, -1.63035016e-01,\n",
       "       -5.78084190e-01, -1.01001020e-01, -2.28678546e-01,  4.66456399e-01,\n",
       "       -4.60393642e-01,  5.23039476e-01,  3.16322551e-01, -1.35084231e-01,\n",
       "        2.36791496e-01, -2.16064232e-01, -7.87257053e-01,  6.58723074e-02,\n",
       "       -3.42169644e-01,  6.00594087e-01,  8.79044050e-02,  6.29000192e-01,\n",
       "        4.05363924e-01,  6.39761063e-01,  3.01213435e-01,  4.36054760e-01,\n",
       "       -1.83313518e-01,  1.82282537e-01, -9.79295375e-02, -2.16653773e-01,\n",
       "        3.95618760e-01,  9.99352509e-01, -1.50231425e-01, -9.40610086e-01,\n",
       "        5.29234230e-01, -1.24800141e-01,  4.50246669e-03,  5.17590058e-01,\n",
       "        1.28082272e-01,  6.64843135e-01,  5.99295234e-01,  5.13336678e-01,\n",
       "        3.29993209e-01, -2.15907039e-01,  3.44583215e-01,  1.05803637e-01,\n",
       "        2.42728045e-01,  3.21634234e-01,  6.88008828e-01,  6.05281245e-01,\n",
       "        3.91784816e-01,  1.83289483e-01, -1.12389391e+00,  6.31313778e-01,\n",
       "        1.94091089e-01, -1.63467498e-01,  1.88960204e-01, -4.73068715e-03,\n",
       "        6.50527687e-01,  7.61336444e-03, -4.48689010e-01,  4.96264480e-01,\n",
       "       -2.68006079e-01,  6.78332063e-01,  9.42476091e-01, -1.00711065e+00,\n",
       "        8.07353581e-01,  6.53169300e-02,  8.60216748e-01, -1.06892197e+00,\n",
       "        2.14827937e-01,  9.13215464e-01,  1.84624931e-01, -4.15247178e-01,\n",
       "       -1.34849833e-01,  7.68166995e-01, -8.86599832e-01, -1.11380549e-01,\n",
       "        4.98638412e-01, -2.98945594e-01, -2.41820995e-01,  7.81836860e-01,\n",
       "        8.27959099e-01,  8.35961162e-01,  6.38709827e-01, -1.70819964e-01,\n",
       "       -5.15512321e-01, -9.55523442e-01, -1.67951227e-01,  6.61126093e-01,\n",
       "        7.57460234e-01,  6.70346120e-01,  9.51029266e-01,  1.83780513e-03,\n",
       "       -7.38960132e-01, -7.11134805e-01, -7.51755369e-01,  8.93833094e-01,\n",
       "        5.01139666e-01, -2.74743139e-01,  4.58049613e-01, -3.07746425e-01,\n",
       "       -3.23297102e-01, -5.00728797e-01, -1.76736598e-01,  5.50589346e-01,\n",
       "        3.12769845e-01, -1.56735198e-01, -6.22326394e-01,  7.60095665e-02,\n",
       "        2.71860357e-01,  2.85257573e-01,  9.00494825e-02,  2.17255088e-01,\n",
       "        1.47732571e-01,  2.75265629e-01,  1.75520068e-01,  9.29142307e-02,\n",
       "        7.33808175e-01,  1.17271991e-01,  4.43323895e-01, -3.39150479e-01,\n",
       "       -4.33427341e-01, -6.03121100e-01, -9.65920741e-01,  4.24979496e-01,\n",
       "        6.39248214e-02, -5.05698158e-01, -2.06797844e-01,  3.02624916e-02,\n",
       "       -5.55553017e-01,  6.00597830e-01,  3.59609013e-01, -5.02396583e-01,\n",
       "        4.31308249e-01,  4.78675436e-01,  1.03758249e+00,  6.13235378e-01,\n",
       "       -1.58849681e+00, -2.20367506e-01,  1.93563807e-01, -5.14558078e-02,\n",
       "       -1.42131457e-01,  2.65639517e-02, -3.33793806e-01, -7.89413486e-01,\n",
       "        4.58387757e-01, -2.75276546e-01,  8.52585379e-02,  4.29663112e-01,\n",
       "        4.73514510e-01,  2.38824410e-01, -3.69834818e-01, -1.47796403e-01,\n",
       "        3.10886784e-01, -2.25419081e+00,  7.66992423e-02, -1.86388506e-01,\n",
       "        2.66332977e-01, -6.37234629e-02,  4.17881072e-01, -6.10780066e-01,\n",
       "        4.95122061e-02,  1.74654590e-01, -6.13020006e-02,  5.47435932e-01,\n",
       "        3.26923674e-01,  4.20999636e-01,  1.31669613e-01,  9.24075061e-02,\n",
       "        1.20305302e-01,  5.28019274e-01,  3.21886224e-01, -5.16838617e-01,\n",
       "       -1.35740313e-01,  8.39863450e-03,  6.88751033e-01, -5.81668488e-01,\n",
       "        1.58876222e-01, -4.83400387e-02, -9.69633672e-01,  2.02856826e-01,\n",
       "        5.76322101e-01,  4.00086868e-01,  1.64599676e-01,  7.37124328e-01,\n",
       "       -7.11288158e-02,  7.82547869e-01,  1.04821147e-01,  2.82253287e-01,\n",
       "        5.46874491e-01,  7.98094845e-01, -4.02569224e-01,  6.41944791e-01,\n",
       "        7.23016176e-01,  3.68503661e-01, -6.74161891e-02,  9.60536625e-01,\n",
       "        2.25066453e-01, -2.89469251e-01,  5.45707000e-01, -7.63116433e-02,\n",
       "        5.45824725e-02,  6.71103428e-02, -3.30639639e-01, -1.13471537e+00,\n",
       "       -3.78382492e-02,  2.98423417e-01,  3.42550712e-01,  5.32162463e-01,\n",
       "        7.73879099e-01, -6.72893158e-01, -7.08312908e-01, -3.63990498e-01,\n",
       "       -1.27633068e-01,  5.14513939e-01,  5.74988313e-01,  7.81536939e-02,\n",
       "       -3.02479555e-02,  1.92069321e-01,  5.82422382e-01, -1.10767269e-01,\n",
       "        2.09603424e-01,  2.58921307e-01, -8.89672848e-01,  4.47875652e-01,\n",
       "       -5.32448148e-01,  2.10717994e-01, -1.56874248e-01, -5.07356354e-02,\n",
       "        7.75687410e-01,  3.69692392e-01, -7.34136401e-01,  6.09476836e-01,\n",
       "       -2.89139219e-02, -3.03273896e-01,  1.56753668e-01, -3.86477479e-01,\n",
       "       -2.23019854e+00, -7.20062122e-02])"
      ]
     },
     "execution_count": 182,
     "metadata": {},
     "output_type": "execute_result"
    }
   ],
   "source": [
    "from sklearn.linear_model import LinearRegression, Lasso, Ridge\n",
    "alpha = .1 # regularization parameter\n",
    "\n",
    "lin = Ridge(alpha=alpha).fit(train_ridge,train_y)\n",
    "yhat = lin.predict(test_ridge)\n",
    "yhat"
   ]
  },
  {
   "cell_type": "code",
   "execution_count": 183,
   "metadata": {},
   "outputs": [
    {
     "data": {
      "text/plain": [
       "(238,)"
      ]
     },
     "execution_count": 183,
     "metadata": {},
     "output_type": "execute_result"
    }
   ],
   "source": [
    "yhat.shape"
   ]
  },
  {
   "cell_type": "code",
   "execution_count": 184,
   "metadata": {},
   "outputs": [
    {
     "data": {
      "text/plain": [
       "(357, 19)"
      ]
     },
     "execution_count": 184,
     "metadata": {},
     "output_type": "execute_result"
    }
   ],
   "source": [
    "train_ridge.shape"
   ]
  },
  {
   "cell_type": "code",
   "execution_count": 185,
   "metadata": {},
   "outputs": [
    {
     "name": "stdout",
     "output_type": "stream",
     "text": [
      "0.6657442516163885\n"
     ]
    }
   ],
   "source": [
    "Ridge_MSE = MSE(test_y, yhat)\n",
    "print(Ridge_MSE)"
   ]
  },
  {
   "cell_type": "code",
   "execution_count": 186,
   "metadata": {},
   "outputs": [
    {
     "data": {
      "image/png": "[encoded data removed]",
      "text/plain": [
       "<Figure size 432x288 with 1 Axes>"
      ]
     },
     "metadata": {
      "needs_background": "light"
     },
     "output_type": "display_data"
    }
   ],
   "source": [
    "plot_pred_true(yhat,test_y)"
   ]
  },
  {
   "cell_type": "code",
   "execution_count": 187,
   "metadata": {},
   "outputs": [
    {
     "name": "stdout",
     "output_type": "stream",
     "text": [
      "Requirement already satisfied: Mosek in c:\\users\\manas\\appdata\\roaming\\python\\python38\\site-packages (9.3.8)\n",
      "Requirement already satisfied: numpy in c:\\users\\manas\\anaconda3\\lib\\site-packages (from Mosek) (1.20.1)\n",
      "Note: you may need to restart the kernel to use updated packages.\n"
     ]
    }
   ],
   "source": [
    "pip install Mosek --user"
   ]
  },
  {
   "cell_type": "code",
   "execution_count": 188,
   "metadata": {},
   "outputs": [],
   "source": [
    "import sklearn\n",
    "from sklearn.tree import DecisionTreeRegressor\n",
    "from sklearn.tree import DecisionTreeClassifier\n",
    "from sklearn.ensemble import RandomForestClassifier\n",
    "from sklearn.ensemble import RandomForestRegressor\n",
    "import numpy as np\n",
    "import pandas as pd\n",
    "import mosek\n",
    "import cvxpy as cp"
   ]
  },
  {
   "cell_type": "code",
   "execution_count": 189,
   "metadata": {},
   "outputs": [],
   "source": [
    "from ControlBurn.ControlBurn import ControlBurnRegressor\n",
    "from ControlBurn.ControlBurn import ControlBurnClassifier\n",
    "\n",
    "from sklearn import datasets\n",
    "from sklearn.model_selection import train_test_split\n",
    "from sklearn import preprocessing\n",
    "from sklearn.metrics import mean_squared_error"
   ]
  },
  {
   "cell_type": "code",
   "execution_count": 190,
   "metadata": {},
   "outputs": [
    {
     "name": "stdout",
     "output_type": "stream",
     "text": [
      "     GP   MPG  MIN%Minutes Percentage  USG%Usage Rate  TO%Turnover Rate  FTA  \\\n",
      "552  28  13.4                    27.9            15.8              13.2   39   \n",
      "316  16  11.6                    24.2            16.9              12.5   14   \n",
      "206  25  29.4                    61.3            23.9              16.5  105   \n",
      "454  13  19.0                    39.5            13.1               5.3    4   \n",
      "304  58  22.7                    47.3            12.3               8.5   91   \n",
      "..   ..   ...                     ...             ...               ...  ...   \n",
      "377  33   8.2                    17.0            19.1               7.6   25   \n",
      "94   49  25.6                    53.3            21.4               8.2  118   \n",
      "409  61  19.7                    41.0            16.5              11.9   50   \n",
      "183  30  10.1                    21.0            14.3              20.9   19   \n",
      "364  33   8.2                    17.1            24.6               8.0   38   \n",
      "\n",
      "        FT  2PA    2P   eFG  ...  TRB%Total Rebound Percentage  \\\n",
      "552   66.7   48  45.8  44.1  ...                           7.3   \n",
      "316   78.6   25  60.0  50.0  ...                          13.8   \n",
      "206   62.9  181  47.5  50.9  ...                          11.7   \n",
      "454   75.0   36  55.6  47.9  ...                          10.6   \n",
      "304   64.8  168  61.9  55.4  ...                           8.3   \n",
      "..     ...  ...   ...   ...  ...                           ...   \n",
      "377   88.0   58  51.7  52.0  ...                           7.1   \n",
      "94    85.6  254  42.5  52.2  ...                           9.8   \n",
      "409   72.0  169  52.1  49.1  ...                          12.4   \n",
      "183  100.0   45  60.0  48.6  ...                           7.7   \n",
      "364   81.6  114  53.5  51.2  ...                          26.0   \n",
      "\n",
      "     APGAssists per game.  Assist Percentage  SPGSteals per game.  \\\n",
      "552                   0.9                9.9                 0.50   \n",
      "316                   0.8                9.6                 0.38   \n",
      "206                   4.2               23.0                 0.64   \n",
      "454                   1.1                8.1                 0.92   \n",
      "304                   0.8                4.8                 0.64   \n",
      "..                    ...                ...                  ...   \n",
      "377                   0.9               16.4                 0.42   \n",
      "94                    2.2               13.2                 0.63   \n",
      "409                   1.2                8.6                 0.36   \n",
      "183                   1.5               19.9                 0.30   \n",
      "364                   0.3                5.9                 0.06   \n",
      "\n",
      "     BPGBlocks per game.  TOPGTurnovers per game.    VI   ORTG   DRTG  \\\n",
      "552                 0.32                     0.64   5.6   96.5  108.1   \n",
      "316                 0.63                     0.56   7.4  107.0  105.9   \n",
      "206                 0.80                     2.68  10.1  102.8  109.9   \n",
      "454                 1.08                     0.31   5.9  108.0  102.8   \n",
      "304                 0.93                     0.55   4.7  120.1  110.1   \n",
      "..                   ...                      ...   ...    ...    ...   \n",
      "377                 0.06                     0.27   7.6  120.8  110.0   \n",
      "94                  0.29                     1.00   7.9  113.5  102.9   \n",
      "409                 0.31                     0.89   6.7  100.8  101.0   \n",
      "183                 0.13                     0.70   7.4  112.4  104.5   \n",
      "364                 0.18                     0.36   8.6  120.7  101.5   \n",
      "\n",
      "     WingSpan(cm)  \n",
      "552        210.82  \n",
      "316        220.98  \n",
      "206        212.73  \n",
      "454        220.98  \n",
      "304        213.36  \n",
      "..            ...  \n",
      "377        198.12  \n",
      "94         208.28  \n",
      "409        210.19  \n",
      "183        201.93  \n",
      "364        238.76  \n",
      "\n",
      "[595 rows x 23 columns]\n"
     ]
    },
    {
     "name": "stderr",
     "output_type": "stream",
     "text": [
      "<ipython-input-190-293e91ca8c5e>:3: UserWarning: Boolean Series key will be reindexed to match DataFrame index.\n",
      "  df3 = df3[~df['3P'].isna()]\n"
     ]
    }
   ],
   "source": [
    "df3 = df[columns_to_norm]\n",
    "df3 = df3.dropna()\n",
    "df3 = df3[~df['3P'].isna()] \n",
    "df3 = df3.sample(frac = 1) \n",
    "\n",
    "target = df3['3P']\n",
    "target_columns = ['3PA','3P']\n",
    "data1 = df3.loc[:, ~df3.columns.isin(target_columns)]\n",
    "# the following variable records the features of examples in the training set\n",
    "train_x = data1.iloc[:]\n",
    "# the following variable records the features of examples in the test set\n",
    "# test_x = data1.iloc[t:]\n",
    "# the following variable records the labels of examples in the training set\n",
    "train_y = target[:]\n",
    "# the following variable records the labels of examples in the test set\n",
    "# test_y = target[t:]\n",
    "print(train_x)"
   ]
  },
  {
   "cell_type": "code",
   "execution_count": 191,
   "metadata": {},
   "outputs": [
    {
     "name": "stdout",
     "output_type": "stream",
     "text": [
      "552    28.3\n",
      "316    28.1\n",
      "206    37.5\n",
      "454    26.5\n",
      "304    31.6\n",
      "       ... \n",
      "377    35.0\n",
      "94     41.5\n",
      "409    31.1\n",
      "183    19.2\n",
      "364    12.5\n",
      "Name: 3P, Length: 595, dtype: float64\n"
     ]
    }
   ],
   "source": [
    "print(train_y)"
   ]
  },
  {
   "cell_type": "code",
   "execution_count": 192,
   "metadata": {},
   "outputs": [
    {
     "name": "stdout",
     "output_type": "stream",
     "text": [
      "595 rows\n",
      "23 columns\n"
     ]
    }
   ],
   "source": [
    "X = train_x\n",
    "y = train_y\n",
    "y = pd.Series(y)\n",
    "y.index = X.index\n",
    "print(str(len(X)) + ' rows')\n",
    "print(str(len(X.columns)) + ' columns')"
   ]
  },
  {
   "cell_type": "code",
   "execution_count": 193,
   "metadata": {},
   "outputs": [],
   "source": [
    "xTrain, xTest, yTrain, yTest = train_test_split(X, y, test_size=0.33, random_state=42)\n",
    "xTrainScaler = preprocessing.StandardScaler()\n",
    "xTrain = xTrainScaler.fit_transform(xTrain)\n",
    "xTrain = pd.DataFrame(xTrain,columns = X.columns)\n",
    "xTest = preprocessing.StandardScaler().fit_transform(xTest)\n",
    "xTest = pd.DataFrame(xTest,columns = X.columns)\n",
    "yTrain = preprocessing.StandardScaler().fit_transform(yTrain.values.reshape(-1, 1))\n",
    "yTest = preprocessing.StandardScaler().fit_transform(yTest.values.reshape(-1, 1))\n",
    "yTrain = pd.Series(yTrain.flatten())\n",
    "yTrain.index = xTrain.index\n",
    "yTest = pd.Series(yTest.flatten())\n",
    "yTest.index = xTest.index"
   ]
  },
  {
   "cell_type": "code",
   "execution_count": 194,
   "metadata": {},
   "outputs": [],
   "source": [
    "# xTrainScaler = preprocessing.StandardScaler()\n",
    "# xTrain = xTrainScaler.fit_transform(train_ridge)\n",
    "# xTrain = pd.DataFrame(xTrain,columns = .columns)"
   ]
  },
  {
   "cell_type": "code",
   "execution_count": 195,
   "metadata": {},
   "outputs": [
    {
     "name": "stdout",
     "output_type": "stream",
     "text": [
      "Number of trees grown: 162\n",
      "Number of trees selected: 40\n",
      "Features selected ['GP', 'USG%Usage Rate', 'TO%Turnover Rate', 'FTA', 'FT', '2PA', '2P', 'eFG', 'TS', 'PPGPoints per game.', 'RPGRebounds per game.', 'TRB%Total Rebound Percentage', 'APGAssists per game.', 'Assist Percentage', 'BPGBlocks per game.', 'ORTG', 'DRTG', 'WingSpan(cm)']\n"
     ]
    }
   ],
   "source": [
    "cb = ControlBurnRegressor(build_forest_method = 'doublebagboost', alpha = 0.02)\n",
    "cb.fit(xTrain,yTrain)\n",
    "# cb.fit(train_vals1,test_vals1)\n",
    "# print(cb.features_selected_) #print selected features\n",
    "# print(cb.feature_importances_) #print feature importances\n",
    "\n",
    "print('Number of trees grown: ' + str(len(cb.forest)))\n",
    "print('Number of trees selected: ' + str(len(cb.subforest)))\n",
    "print('Features selected ' + str(cb.features_selected_))"
   ]
  },
  {
   "cell_type": "code",
   "execution_count": 228,
   "metadata": {},
   "outputs": [
    {
     "name": "stdout",
     "output_type": "stream",
     "text": [
      "Index(['GP', 'MPG', 'MIN%Minutes Percentage', 'USG%Usage Rate',\n",
      "       'TO%Turnover Rate', 'FTA', 'FT', '2PA', '2P', 'eFG', 'TS',\n",
      "       'PPGPoints per game.', 'RPGRebounds per game.',\n",
      "       'TRB%Total Rebound Percentage', 'APGAssists per game.',\n",
      "       'Assist Percentage', 'SPGSteals per game.', 'BPGBlocks per game.',\n",
      "       'TOPGTurnovers per game.', 'VI', 'ORTG', 'DRTG', 'WingSpan(cm)'],\n",
      "      dtype='object')\n"
     ]
    }
   ],
   "source": [
    "tree_list = cb.subforest\n",
    "cols = X.columns\n",
    "print(cols)\n",
    "# for tree in tree_list:\n",
    "#     print(cols[tree.feature_importances_ > 0].values )"
   ]
  },
  {
   "cell_type": "code",
   "execution_count": 226,
   "metadata": {},
   "outputs": [
    {
     "data": {
      "image/png": "[encoded data removed]",
      "text/plain": [
       "<Figure size 432x288 with 1 Axes>"
      ]
     },
     "metadata": {
      "needs_background": "light"
     },
     "output_type": "display_data"
    }
   ],
   "source": [
    "sub_weights = cb.weights[cb.weights>0]\n",
    "# print(sub_weights)\n",
    "# print(sub_weights.shape)\n",
    "for feat in cols:\n",
    "    loc = 0\n",
    "    pred_all = []\n",
    "    for tree in tree_list:\n",
    "        if ((feat in cols[tree.feature_importances_>0]) & (len(cols[tree.feature_importances_>0]) >= 1 )) :\n",
    "            x_temp = pd.DataFrame(np.linspace(-1,1,1000),columns = [feat])\n",
    "#             print(x_temp)\n",
    "            for i in cols:\n",
    "                if i != feat:\n",
    "                    x_temp[i] = 0\n",
    "            x_temp = x_temp[X.columns]\n",
    "        \n",
    "            pred = tree.predict(x_temp)\n",
    "            pred_all.append(pred*sub_weights[loc])\n",
    "        \n",
    "        loc = loc+1\n",
    "    pred_all = np.sum(pred_all,axis = 0)\n",
    "    plt.plot(np.linspace(-1,1,1000),pred_all)\n",
    "    plt.xlabel(feat)\n",
    "    plt.ylabel('Contribution to Prediction')\n",
    "    break"
   ]
  },
  {
   "cell_type": "code",
   "execution_count": 198,
   "metadata": {},
   "outputs": [
    {
     "data": {
      "text/plain": [
       "<AxesSubplot:xlabel='Feature 2', ylabel='Feature 1'>"
      ]
     },
     "execution_count": 198,
     "metadata": {},
     "output_type": "execute_result"
    },
    {
     "data": {
      "image/png": "[encoded data removed]",
      "text/plain": [
       "<Figure size 432x288 with 2 Axes>"
      ]
     },
     "metadata": {
      "needs_background": "light"
     },
     "output_type": "display_data"
    }
   ],
   "source": [
    "import itertools\n",
    "import seaborn as sns\n",
    "from itertools import combinations,permutations\n",
    "import matplotlib.pyplot as plt\n",
    "\n",
    "\n",
    "\n",
    "pairs = list(permutations(cols,2))\n",
    "counter = pd.DataFrame(pairs,columns = ['Feature 1','Feature 2'])\n",
    "\n",
    "counts = []\n",
    "for i in pairs:\n",
    "    n = 0\n",
    "    for tree in tree_list:\n",
    "        feats = list(cols[tree.feature_importances_>0])\n",
    "        if ((i[0] in feats) & (i[1] in feats)):\n",
    "            n = n + 1\n",
    "    counts.append(n)\n",
    "counter['count'] = counts\n",
    "counter = counter.pivot_table(index='Feature 1', columns='Feature 2', values='count')\n",
    "mask = np.zeros_like(counter, dtype='bool')\n",
    "mask[np.triu_indices_from(mask)] = True\n",
    "sns.heatmap(counter, mask = mask , cmap = 'Blues')"
   ]
  },
  {
   "cell_type": "code",
   "execution_count": 125,
   "metadata": {},
   "outputs": [
    {
     "data": {
      "text/plain": [
       "<AxesSubplot:xlabel='WingSpan(cm)', ylabel='eFG'>"
      ]
     },
     "execution_count": 125,
     "metadata": {},
     "output_type": "execute_result"
    },
    {
     "data": {
      "image/png": "[encoded data removed]",
      "text/plain": [
       "<Figure size 432x288 with 2 Axes>"
      ]
     },
     "metadata": {
      "needs_background": "light"
     },
     "output_type": "display_data"
    }
   ],
   "source": [
    "pairs = list(permutations(np.linspace(-3,3,200),2)) \n",
    "x_temp = pd.DataFrame(pairs,columns = ['eFG','WingSpan(cm)'])\n",
    "for i in cols:\n",
    "    if i not in ['eFG','WingSpan(cm)']:\n",
    "        x_temp[i] = 0\n",
    "x_temp = x_temp[X.columns]\n",
    "pred_all = []\n",
    "loc = 0\n",
    "for tree in tree_list:\n",
    "    if (('eFG' in cols[tree.feature_importances_>0]) &('WingSpan(cm)' in cols[tree.feature_importances_>0]) & (len(cols[tree.feature_importances_>0]) == 2)):\n",
    "        pred = tree.predict(x_temp)\n",
    "        pred_all.append(pred*sub_weights[loc])\n",
    "        \n",
    "    loc = loc + 1\n",
    "pred_all = np.sum(pred_all,axis = 0)\n",
    "\n",
    "\n",
    "df = pd.DataFrame(pairs,columns = ['eFG','WingSpan(cm)'])\n",
    "df['contribution'] = pred_all\n",
    "\n",
    "contribution = df['contribution']\n",
    "\n",
    "#Unscale the data for easier interpretation\n",
    "temp = df.drop('contribution',axis = 1)\n",
    "for i in cols:\n",
    "    if i not in ['eFG','WingSpan(cm)']:\n",
    "        temp[i] = 0\n",
    "temp = temp[X.columns]\n",
    "temp = pd.DataFrame(xTrainScaler.inverse_transform(temp), columns = X.columns)\n",
    "df = temp[['eFG','WingSpan(cm)']].round(3)\n",
    "df['contribution'] = contribution.round(3)\n",
    "\n",
    "df_plot = df.pivot_table(index='eFG', columns='WingSpan(cm)', values='contribution')\n",
    "sns.heatmap(df_plot , cmap = 'RdBu', fmt='.4f')"
   ]
  },
  {
   "cell_type": "code",
   "execution_count": 126,
   "metadata": {},
   "outputs": [
    {
     "data": {
      "text/plain": [
       "array([[ 0.06456308],\n",
       "       [ 0.42938316],\n",
       "       [ 0.05044835],\n",
       "       [ 0.18111386],\n",
       "       [ 0.23547754],\n",
       "       [ 0.11333136],\n",
       "       [ 0.11575951],\n",
       "       [-0.13104152],\n",
       "       [-0.44764868],\n",
       "       [-0.13540544],\n",
       "       [-0.04337809],\n",
       "       [-0.129024  ],\n",
       "       [ 0.06297605],\n",
       "       [ 0.08198715],\n",
       "       [ 0.20180484],\n",
       "       [-0.01340135],\n",
       "       [-0.0533235 ],\n",
       "       [-0.14121101],\n",
       "       [ 0.11628949],\n",
       "       [-0.12916956]])"
      ]
     },
     "execution_count": 126,
     "metadata": {},
     "output_type": "execute_result"
    }
   ],
   "source": [
    "w,"
   ]
  },
  {
   "cell_type": "code",
   "execution_count": 10,
   "metadata": {},
   "outputs": [
    {
     "name": "stdout",
     "output_type": "stream",
     "text": [
      "109.08537815126049\n"
     ]
    },
    {
     "data": {
      "image/png": "[encoded data removed]",
      "text/plain": [
       "<Figure size 432x288 with 1 Axes>"
      ]
     },
     "metadata": {
      "needs_background": "light"
     },
     "output_type": "display_data"
    }
   ],
   "source": [
    "import seaborn \n",
    "seaborn.histplot(df['ORTG'],kde = 'True')\n",
    "print(df['ORTG'].mean())"
   ]
  },
  {
   "cell_type": "code",
   "execution_count": 11,
   "metadata": {},
   "outputs": [
    {
     "data": {
      "text/plain": [
       "<AxesSubplot:xlabel='3P', ylabel='Count'>"
      ]
     },
     "execution_count": 11,
     "metadata": {},
     "output_type": "execute_result"
    },
    {
     "data": {
      "image/png": "[encoded data removed]",
      "text/plain": [
       "<Figure size 432x288 with 1 Axes>"
      ]
     },
     "metadata": {
      "needs_background": "light"
     },
     "output_type": "display_data"
    }
   ],
   "source": [
    "seaborn.histplot(df['3P'],kde = 'True')"
   ]
  },
  {
   "cell_type": "code",
   "execution_count": 12,
   "metadata": {},
   "outputs": [
    {
     "data": {
      "text/plain": [
       "<AxesSubplot:xlabel='WingSpan(cm)', ylabel='Count'>"
      ]
     },
     "execution_count": 12,
     "metadata": {},
     "output_type": "execute_result"
    },
    {
     "data": {
      "image/png": "[encoded data removed]",
      "text/plain": [
       "<Figure size 432x288 with 1 Axes>"
      ]
     },
     "metadata": {
      "needs_background": "light"
     },
     "output_type": "display_data"
    }
   ],
   "source": [
    "seaborn.histplot(df['WingSpan(cm)'],kde = 'True')"
   ]
  },
  {
   "cell_type": "code",
   "execution_count": 13,
   "metadata": {},
   "outputs": [
    {
     "data": {
      "text/plain": [
       "<AxesSubplot:xlabel='PPGPoints per game.', ylabel='Count'>"
      ]
     },
     "execution_count": 13,
     "metadata": {},
     "output_type": "execute_result"
    },
    {
     "data": {
      "image/png": "[encoded data removed]",
      "text/plain": [
       "<Figure size 432x288 with 1 Axes>"
      ]
     },
     "metadata": {
      "needs_background": "light"
     },
     "output_type": "display_data"
    }
   ],
   "source": [
    "seaborn.histplot(df['PPGPoints per game.'],kde = 'True')"
   ]
  }
 ],
 "metadata": {
  "kernelspec": {
   "display_name": "Python 3",
   "language": "python",
   "name": "python3"
  },
  "language_info": {
   "codemirror_mode": {
    "name": "ipython",
    "version": 3
   },
   "file_extension": ".py",
   "mimetype": "text/x-python",
   "name": "python",
   "nbconvert_exporter": "python",
   "pygments_lexer": "ipython3",
   "version": "3.8.8"
  }
 },
 "nbformat": 4,
 "nbformat_minor": 4
}
