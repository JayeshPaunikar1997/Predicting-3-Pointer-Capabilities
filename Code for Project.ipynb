{
 "cells": [
  {
   "cell_type": "code",
   "execution_count": 204,
   "metadata": {},
   "outputs": [],
   "source": [
    "import numpy as np\n",
    "import pandas as pd\n",
    "import statsmodels.api as sm\n",
    "import matplotlib.pyplot as plt\n",
    "%matplotlib inline\n",
    "import random as rand\n",
    "from sklearn import preprocessing "
   ]
  },
  {
   "cell_type": "code",
   "execution_count": 205,
   "metadata": {},
   "outputs": [
    {
     "name": "stdout",
     "output_type": "stream",
     "text": [
      "0 \t FULL NAME \t\t\t <class 'str'>\n",
      "1 \t TEAM \t\t\t <class 'str'>\n",
      "2 \t WingSpan(cm) \t\t\t <class 'numpy.float64'>\n",
      "3 \t Height(cm) \t\t\t <class 'numpy.float64'>\n",
      "4 \t POS \t\t\t <class 'str'>\n",
      "5 \t AGE \t\t\t <class 'numpy.float64'>\n",
      "6 \t GP \t\t\t <class 'numpy.int64'>\n",
      "7 \t MPG \t\t\t <class 'numpy.float64'>\n",
      "8 \t MIN%Minutes Percentage \t\t\t <class 'numpy.float64'>\n",
      "9 \t USG%Usage Rate \t\t\t <class 'numpy.float64'>\n",
      "10 \t TO%Turnover Rate \t\t\t <class 'numpy.float64'>\n",
      "11 \t FTA \t\t\t <class 'numpy.int64'>\n",
      "12 \t FT \t\t\t <class 'numpy.float64'>\n",
      "13 \t FT% \t\t\t <class 'numpy.float64'>\n",
      "14 \t 2PA \t\t\t <class 'numpy.int64'>\n",
      "15 \t 2P \t\t\t <class 'numpy.float64'>\n",
      "16 \t 2P% \t\t\t <class 'numpy.float64'>\n",
      "17 \t 3PA \t\t\t <class 'numpy.int64'>\n",
      "18 \t 3P \t\t\t <class 'numpy.float64'>\n",
      "19 \t 3P% \t\t\t <class 'numpy.float64'>\n",
      "20 \t eFG \t\t\t <class 'numpy.float64'>\n",
      "21 \t eFG%Effective Shooting Percentage \t\t\t <class 'numpy.float64'>\n",
      "22 \t TS \t\t\t <class 'numpy.float64'>\n",
      "23 \t TS%True Shooting Percentage \t\t\t <class 'numpy.float64'>\n",
      "24 \t PPGPoints per game. \t\t\t <class 'numpy.float64'>\n",
      "25 \t RPGRebounds per game. \t\t\t <class 'numpy.float64'>\n",
      "26 \t TRB%Total Rebound Percentage \t\t\t <class 'numpy.float64'>\n",
      "27 \t APGAssists per game. \t\t\t <class 'numpy.float64'>\n",
      "28 \t Assist Percentage \t\t\t <class 'numpy.float64'>\n",
      "29 \t SPGSteals per game. \t\t\t <class 'numpy.float64'>\n",
      "30 \t BPGBlocks per game. \t\t\t <class 'numpy.float64'>\n",
      "31 \t TOPGTurnovers per game. \t\t\t <class 'numpy.float64'>\n",
      "32 \t VI \t\t\t <class 'numpy.float64'>\n",
      "33 \t ORTG \t\t\t <class 'numpy.float64'>\n",
      "34 \t DRTG \t\t\t <class 'numpy.float64'>\n"
     ]
    }
   ],
   "source": [
    "np.random.seed(26)\n",
    "df = pd.read_csv('Preprocessed_Data_2019_2020.csv')\n",
    "\n",
    "feature_names = df.columns\n",
    "for i in range(len(feature_names)):\n",
    " print(str(i), \"\\t\", str(feature_names[i]),\"\\t\\t\\t\", str(type(df.iloc[0,i])))"
   ]
  },
  {
   "cell_type": "code",
   "execution_count": 206,
   "metadata": {},
   "outputs": [
    {
     "data": {
      "text/plain": [
       "Index(['FULL NAME', 'TEAM', 'WingSpan(cm)', 'Height(cm)', 'POS', 'AGE', 'GP',\n",
       "       'MPG', 'MIN%Minutes Percentage', 'USG%Usage Rate', 'TO%Turnover Rate',\n",
       "       'FTA', 'FT', 'FT%', '2PA', '2P', '2P%', '3PA', '3P', '3P%', 'eFG',\n",
       "       'eFG%Effective Shooting Percentage', 'TS',\n",
       "       'TS%True Shooting Percentage', 'PPGPoints per game.',\n",
       "       'RPGRebounds per game.', 'TRB%Total Rebound Percentage',\n",
       "       'APGAssists per game.', 'Assist Percentage', 'SPGSteals per game.',\n",
       "       'BPGBlocks per game.', 'TOPGTurnovers per game.', 'VI', 'ORTG', 'DRTG'],\n",
       "      dtype='object')"
      ]
     },
     "execution_count": 206,
     "metadata": {},
     "output_type": "execute_result"
    }
   ],
   "source": [
    "df.columns"
   ]
  },
  {
   "cell_type": "code",
   "execution_count": 207,
   "metadata": {},
   "outputs": [],
   "source": [
    "columns_to_norm = ['GP', 'MPG',\n",
    "       'MIN%Minutes Percentage', 'USG%Usage Rate', 'TO%Turnover Rate', 'FTA',\n",
    "       'FT','2PA', '2P', '3PA', '3P', 'eFG', 'TS', 'PPGPoints per game.',\n",
    "       'RPGRebounds per game.', 'TRB%Total Rebound Percentage',\n",
    "       'APGAssists per game.', 'Assist Percentage', 'SPGSteals per game.',\n",
    "       'BPGBlocks per game.', 'TOPGTurnovers per game.', 'VI', 'ORTG', 'DRTG','WingSpan(cm)','Height(cm)']"
   ]
  },
  {
   "cell_type": "code",
   "execution_count": 208,
   "metadata": {},
   "outputs": [],
   "source": [
    "scaler = preprocessing.StandardScaler().fit(df[columns_to_norm])"
   ]
  },
  {
   "cell_type": "code",
   "execution_count": 209,
   "metadata": {},
   "outputs": [],
   "source": [
    "N_Data = scaler.transform(df[columns_to_norm])"
   ]
  },
  {
   "cell_type": "code",
   "execution_count": 210,
   "metadata": {},
   "outputs": [
    {
     "name": "stdout",
     "output_type": "stream",
     "text": [
      "[[ 0.85115598 -0.84231793 -0.84252998 ... -1.03086564  0.3822731\n",
      "   0.44939109]\n",
      " [-1.37043111 -1.87372764 -1.87436818 ...         nan -0.80191663\n",
      "  -1.89125881]\n",
      " [ 0.72773448  0.85136538  0.84593255 ...  0.42457052  1.09219037\n",
      "   1.32713479]\n",
      " ...\n",
      " [ 0.35746996  0.60165566  0.59578995 ... -0.92305555  0.05043152\n",
      "   1.32713479]\n",
      " [-0.30077807 -0.46232488 -0.45689347 ... -1.3542959   0.99748502\n",
      "   1.61971603]\n",
      " [-0.58876158  0.02623762  0.02775781 ... -1.13867572  0.99748502\n",
      "   1.61971603]]\n"
     ]
    }
   ],
   "source": [
    "print(N_Data)"
   ]
  },
  {
   "cell_type": "code",
   "execution_count": 211,
   "metadata": {},
   "outputs": [
    {
     "data": {
      "text/plain": [
       "<function ndarray.astype>"
      ]
     },
     "execution_count": 211,
     "metadata": {},
     "output_type": "execute_result"
    }
   ],
   "source": [
    "N_Data.astype"
   ]
  },
  {
   "cell_type": "code",
   "execution_count": 212,
   "metadata": {},
   "outputs": [],
   "source": [
    "df1 = pd.DataFrame(N_Data, columns = ['GP', 'MPG',\n",
    "       'MIN%Minutes Percentage', 'USG%Usage Rate', 'TO%Turnover Rate', 'FTA',\n",
    "       'FT','2PA', '2P', '3PA', '3P', 'eFG', 'TS', 'PPGPoints per game.',\n",
    "       'RPGRebounds per game.', 'TRB%Total Rebound Percentage',\n",
    "       'APGAssists per game.', 'Assist Percentage', 'SPGSteals per game.',\n",
    "       'BPGBlocks per game.', 'TOPGTurnovers per game.', 'VI', 'ORTG', 'DRTG','WingSpan(cm)','Height(cm)'])"
   ]
  },
  {
   "cell_type": "code",
   "execution_count": 213,
   "metadata": {},
   "outputs": [
    {
     "data": {
      "text/plain": [
       "0      -1.968401\n",
       "1      -1.968401\n",
       "2      -1.968401\n",
       "3      -0.311967\n",
       "4       0.416863\n",
       "          ...   \n",
       "1159   -0.053564\n",
       "1160    0.191588\n",
       "1161    0.681893\n",
       "1162    0.237969\n",
       "1163   -0.073441\n",
       "Name: 3P, Length: 1164, dtype: float64"
      ]
     },
     "execution_count": 213,
     "metadata": {},
     "output_type": "execute_result"
    }
   ],
   "source": [
    "df1['3P']"
   ]
  },
  {
   "cell_type": "code",
   "execution_count": 214,
   "metadata": {},
   "outputs": [],
   "source": [
    "df1['Name']=df['FULL NAME']"
   ]
  },
  {
   "cell_type": "code",
   "execution_count": 215,
   "metadata": {},
   "outputs": [],
   "source": [
    "df1['POS']=df['POS']"
   ]
  },
  {
   "cell_type": "code",
   "execution_count": 216,
   "metadata": {},
   "outputs": [
    {
     "data": {
      "text/html": [
       "<div>\n",
       "<style scoped>\n",
       "    .dataframe tbody tr th:only-of-type {\n",
       "        vertical-align: middle;\n",
       "    }\n",
       "\n",
       "    .dataframe tbody tr th {\n",
       "        vertical-align: top;\n",
       "    }\n",
       "\n",
       "    .dataframe thead th {\n",
       "        text-align: right;\n",
       "    }\n",
       "</style>\n",
       "<table border=\"1\" class=\"dataframe\">\n",
       "  <thead>\n",
       "    <tr style=\"text-align: right;\">\n",
       "      <th></th>\n",
       "      <th>GP</th>\n",
       "      <th>MPG</th>\n",
       "      <th>MIN%Minutes Percentage</th>\n",
       "      <th>USG%Usage Rate</th>\n",
       "      <th>TO%Turnover Rate</th>\n",
       "      <th>FTA</th>\n",
       "      <th>FT</th>\n",
       "      <th>2PA</th>\n",
       "      <th>2P</th>\n",
       "      <th>3PA</th>\n",
       "      <th>...</th>\n",
       "      <th>SPGSteals per game.</th>\n",
       "      <th>BPGBlocks per game.</th>\n",
       "      <th>TOPGTurnovers per game.</th>\n",
       "      <th>VI</th>\n",
       "      <th>ORTG</th>\n",
       "      <th>DRTG</th>\n",
       "      <th>WingSpan(cm)</th>\n",
       "      <th>Height(cm)</th>\n",
       "      <th>Name</th>\n",
       "      <th>POS</th>\n",
       "    </tr>\n",
       "  </thead>\n",
       "  <tbody>\n",
       "    <tr>\n",
       "      <th>0</th>\n",
       "      <td>0.851156</td>\n",
       "      <td>-0.842318</td>\n",
       "      <td>-0.842530</td>\n",
       "      <td>0.151856</td>\n",
       "      <td>0.187677</td>\n",
       "      <td>0.215284</td>\n",
       "      <td>-0.893769</td>\n",
       "      <td>0.103420</td>\n",
       "      <td>0.368409</td>\n",
       "      <td>-0.868174</td>\n",
       "      <td>...</td>\n",
       "      <td>-0.680879</td>\n",
       "      <td>0.167144</td>\n",
       "      <td>-0.447443</td>\n",
       "      <td>-0.073482</td>\n",
       "      <td>-0.133914</td>\n",
       "      <td>-1.030866</td>\n",
       "      <td>0.382273</td>\n",
       "      <td>0.449391</td>\n",
       "      <td>Precious Achiuwa</td>\n",
       "      <td>F</td>\n",
       "    </tr>\n",
       "    <tr>\n",
       "      <th>1</th>\n",
       "      <td>-1.370431</td>\n",
       "      <td>-1.873728</td>\n",
       "      <td>-1.874368</td>\n",
       "      <td>-0.021354</td>\n",
       "      <td>-1.880743</td>\n",
       "      <td>-0.800672</td>\n",
       "      <td>-3.186275</td>\n",
       "      <td>-0.873457</td>\n",
       "      <td>-2.293285</td>\n",
       "      <td>-0.861111</td>\n",
       "      <td>...</td>\n",
       "      <td>-1.483418</td>\n",
       "      <td>-0.976568</td>\n",
       "      <td>-1.323449</td>\n",
       "      <td>-0.724848</td>\n",
       "      <td>NaN</td>\n",
       "      <td>NaN</td>\n",
       "      <td>-0.801917</td>\n",
       "      <td>-1.891259</td>\n",
       "      <td>Jaylen Adams</td>\n",
       "      <td>G</td>\n",
       "    </tr>\n",
       "    <tr>\n",
       "      <th>2</th>\n",
       "      <td>0.727734</td>\n",
       "      <td>0.851365</td>\n",
       "      <td>0.845933</td>\n",
       "      <td>-1.199177</td>\n",
       "      <td>0.831185</td>\n",
       "      <td>0.446182</td>\n",
       "      <td>-1.186525</td>\n",
       "      <td>0.448201</td>\n",
       "      <td>0.888106</td>\n",
       "      <td>-0.854047</td>\n",
       "      <td>...</td>\n",
       "      <td>0.778282</td>\n",
       "      <td>0.664410</td>\n",
       "      <td>0.378506</td>\n",
       "      <td>0.170781</td>\n",
       "      <td>0.743260</td>\n",
       "      <td>0.424571</td>\n",
       "      <td>1.092190</td>\n",
       "      <td>1.327135</td>\n",
       "      <td>Steven Adams</td>\n",
       "      <td>C</td>\n",
       "    </tr>\n",
       "    <tr>\n",
       "      <th>3</th>\n",
       "      <td>0.974577</td>\n",
       "      <td>1.481068</td>\n",
       "      <td>1.476500</td>\n",
       "      <td>0.879335</td>\n",
       "      <td>0.417501</td>\n",
       "      <td>2.468857</td>\n",
       "      <td>0.412374</td>\n",
       "      <td>2.600867</td>\n",
       "      <td>0.558028</td>\n",
       "      <td>-0.818730</td>\n",
       "      <td>...</td>\n",
       "      <td>1.361947</td>\n",
       "      <td>1.584352</td>\n",
       "      <td>1.980346</td>\n",
       "      <td>1.921329</td>\n",
       "      <td>0.879256</td>\n",
       "      <td>-0.078543</td>\n",
       "      <td>0.761094</td>\n",
       "      <td>0.741972</td>\n",
       "      <td>Bam Adebayo</td>\n",
       "      <td>C-F</td>\n",
       "    </tr>\n",
       "    <tr>\n",
       "      <th>4</th>\n",
       "      <td>-0.794464</td>\n",
       "      <td>0.655940</td>\n",
       "      <td>0.658326</td>\n",
       "      <td>0.706126</td>\n",
       "      <td>-0.808229</td>\n",
       "      <td>-0.458941</td>\n",
       "      <td>0.588027</td>\n",
       "      <td>-0.135274</td>\n",
       "      <td>0.108560</td>\n",
       "      <td>-0.345475</td>\n",
       "      <td>...</td>\n",
       "      <td>-0.559283</td>\n",
       "      <td>1.161676</td>\n",
       "      <td>-0.134583</td>\n",
       "      <td>0.170781</td>\n",
       "      <td>-0.099915</td>\n",
       "      <td>0.819874</td>\n",
       "      <td>1.139916</td>\n",
       "      <td>1.327135</td>\n",
       "      <td>LaMarcus Aldridge</td>\n",
       "      <td>C-F</td>\n",
       "    </tr>\n",
       "    <tr>\n",
       "      <th>...</th>\n",
       "      <td>...</td>\n",
       "      <td>...</td>\n",
       "      <td>...</td>\n",
       "      <td>...</td>\n",
       "      <td>...</td>\n",
       "      <td>...</td>\n",
       "      <td>...</td>\n",
       "      <td>...</td>\n",
       "      <td>...</td>\n",
       "      <td>...</td>\n",
       "      <td>...</td>\n",
       "      <td>...</td>\n",
       "      <td>...</td>\n",
       "      <td>...</td>\n",
       "      <td>...</td>\n",
       "      <td>...</td>\n",
       "      <td>...</td>\n",
       "      <td>...</td>\n",
       "      <td>...</td>\n",
       "      <td>...</td>\n",
       "      <td>...</td>\n",
       "    </tr>\n",
       "    <tr>\n",
       "      <th>1159</th>\n",
       "      <td>1.673966</td>\n",
       "      <td>1.177074</td>\n",
       "      <td>1.179456</td>\n",
       "      <td>-0.107958</td>\n",
       "      <td>-0.042148</td>\n",
       "      <td>0.446182</td>\n",
       "      <td>-0.628037</td>\n",
       "      <td>0.028276</td>\n",
       "      <td>-0.221518</td>\n",
       "      <td>-0.288967</td>\n",
       "      <td>...</td>\n",
       "      <td>1.653779</td>\n",
       "      <td>0.092554</td>\n",
       "      <td>1.892745</td>\n",
       "      <td>0.659306</td>\n",
       "      <td>0.328472</td>\n",
       "      <td>-0.689467</td>\n",
       "      <td>0.145137</td>\n",
       "      <td>0.449391</td>\n",
       "      <td>Thaddeus Young</td>\n",
       "      <td>F</td>\n",
       "    </tr>\n",
       "    <tr>\n",
       "      <th>1160</th>\n",
       "      <td>1.673966</td>\n",
       "      <td>1.198788</td>\n",
       "      <td>1.200301</td>\n",
       "      <td>1.693419</td>\n",
       "      <td>0.815863</td>\n",
       "      <td>3.023015</td>\n",
       "      <td>0.227712</td>\n",
       "      <td>0.669214</td>\n",
       "      <td>-0.277702</td>\n",
       "      <td>0.078336</td>\n",
       "      <td>...</td>\n",
       "      <td>-0.218812</td>\n",
       "      <td>-0.479302</td>\n",
       "      <td>0.040618</td>\n",
       "      <td>0.374333</td>\n",
       "      <td>-0.086315</td>\n",
       "      <td>1.574545</td>\n",
       "      <td>-1.464854</td>\n",
       "      <td>-1.598678</td>\n",
       "      <td>Trae Young</td>\n",
       "      <td>G</td>\n",
       "    </tr>\n",
       "    <tr>\n",
       "      <th>1161</th>\n",
       "      <td>0.357470</td>\n",
       "      <td>0.601656</td>\n",
       "      <td>0.595790</td>\n",
       "      <td>-0.419735</td>\n",
       "      <td>0.111069</td>\n",
       "      <td>0.501598</td>\n",
       "      <td>0.565508</td>\n",
       "      <td>-0.780632</td>\n",
       "      <td>-0.607780</td>\n",
       "      <td>-0.804603</td>\n",
       "      <td>...</td>\n",
       "      <td>-1.288863</td>\n",
       "      <td>0.067691</td>\n",
       "      <td>-0.597615</td>\n",
       "      <td>0.618596</td>\n",
       "      <td>1.015253</td>\n",
       "      <td>-0.923056</td>\n",
       "      <td>0.050432</td>\n",
       "      <td>1.327135</td>\n",
       "      <td>Cody Zeller</td>\n",
       "      <td>F-C</td>\n",
       "    </tr>\n",
       "    <tr>\n",
       "      <th>1162</th>\n",
       "      <td>-0.300778</td>\n",
       "      <td>-0.462325</td>\n",
       "      <td>-0.456893</td>\n",
       "      <td>0.325065</td>\n",
       "      <td>0.095747</td>\n",
       "      <td>-0.191099</td>\n",
       "      <td>1.317666</td>\n",
       "      <td>-0.882298</td>\n",
       "      <td>-1.710381</td>\n",
       "      <td>-0.811666</td>\n",
       "      <td>...</td>\n",
       "      <td>-0.680879</td>\n",
       "      <td>-0.156079</td>\n",
       "      <td>-0.284756</td>\n",
       "      <td>-0.602717</td>\n",
       "      <td>0.811258</td>\n",
       "      <td>-1.354296</td>\n",
       "      <td>0.997485</td>\n",
       "      <td>1.619716</td>\n",
       "      <td>Ivica Zubac</td>\n",
       "      <td>C</td>\n",
       "    </tr>\n",
       "    <tr>\n",
       "      <th>1163</th>\n",
       "      <td>-0.588762</td>\n",
       "      <td>0.026238</td>\n",
       "      <td>0.027758</td>\n",
       "      <td>0.255781</td>\n",
       "      <td>0.386858</td>\n",
       "      <td>-0.246514</td>\n",
       "      <td>1.317666</td>\n",
       "      <td>-0.891138</td>\n",
       "      <td>-3.466115</td>\n",
       "      <td>-0.825793</td>\n",
       "      <td>...</td>\n",
       "      <td>-1.483418</td>\n",
       "      <td>-0.976568</td>\n",
       "      <td>-0.697730</td>\n",
       "      <td>-0.277034</td>\n",
       "      <td>0.355672</td>\n",
       "      <td>-1.138676</td>\n",
       "      <td>0.997485</td>\n",
       "      <td>1.619716</td>\n",
       "      <td>Ivica Zubac</td>\n",
       "      <td>C</td>\n",
       "    </tr>\n",
       "  </tbody>\n",
       "</table>\n",
       "<p>1164 rows × 28 columns</p>\n",
       "</div>"
      ],
      "text/plain": [
       "            GP       MPG  MIN%Minutes Percentage  USG%Usage Rate  \\\n",
       "0     0.851156 -0.842318               -0.842530        0.151856   \n",
       "1    -1.370431 -1.873728               -1.874368       -0.021354   \n",
       "2     0.727734  0.851365                0.845933       -1.199177   \n",
       "3     0.974577  1.481068                1.476500        0.879335   \n",
       "4    -0.794464  0.655940                0.658326        0.706126   \n",
       "...        ...       ...                     ...             ...   \n",
       "1159  1.673966  1.177074                1.179456       -0.107958   \n",
       "1160  1.673966  1.198788                1.200301        1.693419   \n",
       "1161  0.357470  0.601656                0.595790       -0.419735   \n",
       "1162 -0.300778 -0.462325               -0.456893        0.325065   \n",
       "1163 -0.588762  0.026238                0.027758        0.255781   \n",
       "\n",
       "      TO%Turnover Rate       FTA        FT       2PA        2P       3PA  ...  \\\n",
       "0             0.187677  0.215284 -0.893769  0.103420  0.368409 -0.868174  ...   \n",
       "1            -1.880743 -0.800672 -3.186275 -0.873457 -2.293285 -0.861111  ...   \n",
       "2             0.831185  0.446182 -1.186525  0.448201  0.888106 -0.854047  ...   \n",
       "3             0.417501  2.468857  0.412374  2.600867  0.558028 -0.818730  ...   \n",
       "4            -0.808229 -0.458941  0.588027 -0.135274  0.108560 -0.345475  ...   \n",
       "...                ...       ...       ...       ...       ...       ...  ...   \n",
       "1159         -0.042148  0.446182 -0.628037  0.028276 -0.221518 -0.288967  ...   \n",
       "1160          0.815863  3.023015  0.227712  0.669214 -0.277702  0.078336  ...   \n",
       "1161          0.111069  0.501598  0.565508 -0.780632 -0.607780 -0.804603  ...   \n",
       "1162          0.095747 -0.191099  1.317666 -0.882298 -1.710381 -0.811666  ...   \n",
       "1163          0.386858 -0.246514  1.317666 -0.891138 -3.466115 -0.825793  ...   \n",
       "\n",
       "      SPGSteals per game.  BPGBlocks per game.  TOPGTurnovers per game.  \\\n",
       "0               -0.680879             0.167144                -0.447443   \n",
       "1               -1.483418            -0.976568                -1.323449   \n",
       "2                0.778282             0.664410                 0.378506   \n",
       "3                1.361947             1.584352                 1.980346   \n",
       "4               -0.559283             1.161676                -0.134583   \n",
       "...                   ...                  ...                      ...   \n",
       "1159             1.653779             0.092554                 1.892745   \n",
       "1160            -0.218812            -0.479302                 0.040618   \n",
       "1161            -1.288863             0.067691                -0.597615   \n",
       "1162            -0.680879            -0.156079                -0.284756   \n",
       "1163            -1.483418            -0.976568                -0.697730   \n",
       "\n",
       "            VI      ORTG      DRTG  WingSpan(cm)  Height(cm)  \\\n",
       "0    -0.073482 -0.133914 -1.030866      0.382273    0.449391   \n",
       "1    -0.724848       NaN       NaN     -0.801917   -1.891259   \n",
       "2     0.170781  0.743260  0.424571      1.092190    1.327135   \n",
       "3     1.921329  0.879256 -0.078543      0.761094    0.741972   \n",
       "4     0.170781 -0.099915  0.819874      1.139916    1.327135   \n",
       "...        ...       ...       ...           ...         ...   \n",
       "1159  0.659306  0.328472 -0.689467      0.145137    0.449391   \n",
       "1160  0.374333 -0.086315  1.574545     -1.464854   -1.598678   \n",
       "1161  0.618596  1.015253 -0.923056      0.050432    1.327135   \n",
       "1162 -0.602717  0.811258 -1.354296      0.997485    1.619716   \n",
       "1163 -0.277034  0.355672 -1.138676      0.997485    1.619716   \n",
       "\n",
       "                   Name  POS  \n",
       "0      Precious Achiuwa    F  \n",
       "1          Jaylen Adams    G  \n",
       "2          Steven Adams    C  \n",
       "3           Bam Adebayo  C-F  \n",
       "4     LaMarcus Aldridge  C-F  \n",
       "...                 ...  ...  \n",
       "1159     Thaddeus Young    F  \n",
       "1160         Trae Young    G  \n",
       "1161        Cody Zeller  F-C  \n",
       "1162        Ivica Zubac    C  \n",
       "1163        Ivica Zubac    C  \n",
       "\n",
       "[1164 rows x 28 columns]"
      ]
     },
     "execution_count": 216,
     "metadata": {},
     "output_type": "execute_result"
    }
   ],
   "source": [
    "df1"
   ]
  },
  {
   "cell_type": "code",
   "execution_count": 217,
   "metadata": {},
   "outputs": [
    {
     "name": "stdout",
     "output_type": "stream",
     "text": [
      "Size of dataset:  1004\n",
      "Training dataset:              GP       MPG  MIN%Minutes Percentage  USG%Usage Rate  \\\n",
      "115  -1.576134 -1.461164               -1.462675       -2.636815   \n",
      "148  -1.000167 -0.929173               -0.925911       -0.090637   \n",
      "852  -0.671043 -0.028047               -0.024355       -0.177242   \n",
      "194  -0.012795 -0.972601               -0.967601       -0.229205   \n",
      "163   1.303701  1.329071                1.335795        1.450926   \n",
      "...        ...       ...                     ...             ...   \n",
      "105  -0.753324  0.721082                0.726073        0.151856   \n",
      "761   1.632826  0.786224                0.783397        0.082572   \n",
      "1113  0.645453  0.265090                0.267478        0.221140   \n",
      "220  -0.383059 -1.330880               -1.332393        0.186498   \n",
      "874   1.303701  0.655940                0.653114        0.065251   \n",
      "\n",
      "      TO%Turnover Rate       FTA        FT       2PA        2P       eFG  ...  \\\n",
      "115          -1.880743 -0.800672 -3.186275 -0.895558 -3.466115 -4.012780  ...   \n",
      "148           0.141712 -0.579009  0.565508 -0.754110  1.218184  0.700371  ...   \n",
      "852          -0.088113 -0.606717  0.601539 -0.038028 -0.045945  0.955567  ...   \n",
      "194          -0.716299 -0.588245  1.123996 -0.625922 -0.067014  0.540873  ...   \n",
      "163          -0.226007  1.711509  0.308783  2.150001 -0.067014 -0.121041  ...   \n",
      "...                ...       ...       ...       ...       ...       ...  ...   \n",
      "105          -0.195364 -0.172627  0.061066 -0.122013  0.284133  0.054406  ...   \n",
      "761          -0.532440  1.018812 -0.033516 -0.130853  0.529936  0.182004  ...   \n",
      "1113         -0.271972 -0.228042 -0.060540 -0.449112 -0.369000  0.174029  ...   \n",
      "220          -0.317937 -0.615953  0.416878 -0.714328 -0.790376 -0.798906  ...   \n",
      "874           0.080425  0.926452  0.601539  0.266970  0.340317  0.166054  ...   \n",
      "\n",
      "      SPGSteals per game.  BPGBlocks per game.  TOPGTurnovers per game.  \\\n",
      "115             -0.267450            -0.976568                -1.323449   \n",
      "148             -0.121534            -0.653345                -0.535043   \n",
      "852              0.729643             0.664410                -0.147098   \n",
      "194             -0.997031            -0.976568                -0.910474   \n",
      "163              1.288989             0.241734                 1.479771   \n",
      "...                   ...                  ...                      ...   \n",
      "105              0.389172             1.062223                 0.328449   \n",
      "761             -0.291770             0.540093                -0.610129   \n",
      "1113            -0.243131            -0.827388                -0.222184   \n",
      "220             -1.021350            -0.976568                -0.885446   \n",
      "874             -0.486325             0.216870                 0.628793   \n",
      "\n",
      "            VI      ORTG      DRTG  WingSpan(cm)  Height(cm)  \\\n",
      "115  -2.801080 -3.527016 -0.905087     -0.138979   -0.135771   \n",
      "148   0.862858  1.117250 -0.312132      0.902780    1.034554   \n",
      "852  -0.439875  0.335272 -1.659758      0.666389    0.449391   \n",
      "194  -0.480586  0.586865  1.053463     -1.275443   -1.598678   \n",
      "163   0.455754 -0.501103  1.466735     -0.328390   -0.720934   \n",
      "...        ...       ...       ...           ...         ...   \n",
      "105   0.577885  0.206076  0.101140      1.092190    1.034554   \n",
      "761  -0.602717 -0.106715 -0.815245     -0.280664   -0.135771   \n",
      "1113 -0.358455 -0.222312 -0.150417     -1.086033   -1.891259   \n",
      "220   0.333623 -0.698298  1.269083     -1.180738   -1.598678   \n",
      "874   0.659306  0.382871  0.173014     -0.564780    0.156810   \n",
      "\n",
      "                    Name  POS  \n",
      "115           Gary Clark    F  \n",
      "148         Gorgui Dieng    C  \n",
      "852       JaMychal Green    F  \n",
      "194    Langston Galloway    G  \n",
      "163      Anthony Edwards    G  \n",
      "...                  ...  ...  \n",
      "105   Wendell Carter Jr.  C-F  \n",
      "761          Jae Crowder    F  \n",
      "1113           Ish Smith    G  \n",
      "220             Kyle Guy    G  \n",
      "874       Gordon Hayward    F  \n",
      "\n",
      "[602 rows x 26 columns]\n"
     ]
    },
    {
     "name": "stderr",
     "output_type": "stream",
     "text": [
      "<ipython-input-217-4a382b2467f8>:2: UserWarning: Boolean Series key will be reindexed to match DataFrame index.\n",
      "  df1 = df1[~df['3P'].isna()]\n"
     ]
    }
   ],
   "source": [
    "df1 = df1.dropna()\n",
    "df1 = df1[~df['3P'].isna()] \n",
    "df1 = df1.sample(frac = 1) \n",
    "train_proportion = 0.6\n",
    "test_proportion = 0.2\n",
    "n = len(df1)\n",
    "print('Size of dataset: ', str(n))\n",
    "\n",
    "t = int(train_proportion * n)\n",
    "t1 = int(test_proportion*n)\n",
    "target = df1['3P']\n",
    "target_columns = ['3PA','3P']\n",
    "data = df1.loc[:, ~df1.columns.isin(target_columns)]\n",
    "# the following variable records the features of examples in the training set\n",
    "train_x = data.iloc[:t]\n",
    "# the following variable records the features of examples in the test set\n",
    "test_x = data.iloc[t+t1:]\n",
    "# the following variable records the labels of examples in the training set\n",
    "train_y = target[:t]\n",
    "# the following variable records the labels of examples in the test set\n",
    "test_y = target[t+t1:]\n",
    "\n",
    "valid_x = data.iloc[t:t+t1]\n",
    "valid_y = target[t:t+t1]\n",
    "\n",
    "print('Training dataset: ', train_x)\n"
   ]
  },
  {
   "cell_type": "code",
   "execution_count": 218,
   "metadata": {},
   "outputs": [],
   "source": [
    "def string_to_float(string):\n",
    "     try:\n",
    "        return float(string)\n",
    "     except:\n",
    "        return 0.0\n",
    "    \n",
    "labels_real = [\n",
    " 'GP',   \n",
    " 'MPG',\n",
    " 'WingSpan(cm)', \n",
    " 'FT',\n",
    " 'VI',\n",
    " 'PPGPoints per game.',\n",
    " 'ORTG','2P','Height(cm)',\n",
    " 'RPGRebounds per game.',\n",
    " 'TOPGTurnovers per game.',\n",
    " 'BPGBlocks per game.',\n",
    " 'SPGSteals per game.'\n",
    "]\n",
    "\n",
    "#labels_string = [\n",
    "    #'POS',\n",
    "    \n",
    "#]\n",
    "\n"
   ]
  },
  {
   "cell_type": "code",
   "execution_count": 219,
   "metadata": {},
   "outputs": [],
   "source": [
    "train_vals_real = np.asarray(train_x[labels_real])\n",
    "\n",
    "valid_vals_real = np.asarray(valid_x[labels_real])"
   ]
  },
  {
   "cell_type": "code",
   "execution_count": 220,
   "metadata": {},
   "outputs": [],
   "source": [
    "#assert(train_vals_from_string.applymap(lambda x:type(x)!=str).all(skipna=False).all(skipna=False) == True)\n",
    "#assert(test_vals_from_string.applymap(lambda x:type(x)!=str).all(skipna=False).all(skipna=False) == True)"
   ]
  },
  {
   "cell_type": "code",
   "execution_count": 221,
   "metadata": {},
   "outputs": [],
   "source": [
    "#train_vals_from_string = np.asarray(train_vals_from_string)\n",
    "#test_vals_from_string = np.asarray(test_vals_from_string)"
   ]
  },
  {
   "cell_type": "code",
   "execution_count": 222,
   "metadata": {},
   "outputs": [],
   "source": [
    "train_vals = np.concatenate((train_vals_real,np.ones((len(train_vals_real[:,0]),1))), axis = 1)\n",
    "\n",
    "valid_vals = np.concatenate((valid_vals_real,np.ones((len(valid_vals_real[:,0]),1))), axis = 1)\n"
   ]
  },
  {
   "cell_type": "code",
   "execution_count": 223,
   "metadata": {},
   "outputs": [],
   "source": [
    "def MSE(y, pred):\n",
    "    return np.mean(np.power(np.subtract(y,pred),2)) \n",
    "\n",
    "# This function plots the main diagonal;for a \"predicted vs true\" plot with perfect predictions, all data lies on this line\n",
    "def plotDiagonal(xmin, xmax):\n",
    "    xsamples = np.arange(xmin,xmax,step=0.01)\n",
    "    plt.plot(xsamples,xsamples,c='black')\n",
    "\n",
    "# This helper function plots x vs y and labels the axes\n",
    "def plotdata(x=None,y=None,xname=None,yname=None,margin=0.05,plotDiag=True,zeromin=False):\n",
    "    plt.scatter(x,y,label='data')\n",
    "    plt.xlabel(xname)\n",
    "    plt.ylabel(yname)\n",
    "    range_x = max(x) - min(x)\n",
    "    range_y = max(y) - min(y)\n",
    "    if plotDiag:\n",
    "        plotDiagonal(min(x)-margin*range_x,max(x)+margin*range_x)\n",
    "    if zeromin:\n",
    "        plt.xlim(0.0,max(x)+margin*range_x)\n",
    "        plt.ylim(0.0,max(y)+margin*range_y)\n",
    "    else:\n",
    "        plt.xlim(min(x)-margin*range_x,max(x)+margin*range_x)\n",
    "        plt.ylim(min(y)-margin*range_y,max(y)+margin*range_y)\n",
    "    plt.show()\n",
    "\n",
    "# This function plots the predicted labels vs the actual labels (We only plot the first 1000 points to avoid slow plots)\n",
    "def plot_pred_true(test_pred=None, test_y=None, max_points = 1000):\n",
    "    plotdata(test_pred[1:max_points], test_y[1:max_points],'Predicted', 'True', zeromin=True)"
   ]
  },
  {
   "cell_type": "code",
   "execution_count": 224,
   "metadata": {},
   "outputs": [],
   "source": [
    "# This function runs OLS and bypasses any SVD (Singular Value Decomposition) convergence errors by refitting the model\n",
    "def run_OLS(train_y, test_y, train_vals, test_vals):\n",
    "    ols_model = sm.regression.linear_model.OLS(train_y, train_vals)\n",
    "    while True: # Bypasses SVD convergence assertion error\n",
    "        try:\n",
    "            results = ols_model.fit()\n",
    "            break\n",
    "        except:\n",
    "            None\n",
    "            \n",
    "    w = np.array(results.params).reshape([len(results.params),1])\n",
    "\n",
    "    train_pred = np.matmul(train_vals,w)\n",
    "    test_pred = np.matmul(test_vals,w)\n",
    "\n",
    "    train_MSE = MSE(train_y, train_pred.flatten())\n",
    "    test_MSE = MSE(test_y, test_pred.flatten())\n",
    "    \n",
    "    return train_MSE, test_MSE, test_pred,w"
   ]
  },
  {
   "cell_type": "code",
   "execution_count": 225,
   "metadata": {},
   "outputs": [],
   "source": [
    "train_MSE, valid_MSE, valid_pred,w = run_OLS(train_y, valid_y, train_vals, valid_vals)"
   ]
  },
  {
   "cell_type": "code",
   "execution_count": 227,
   "metadata": {},
   "outputs": [
    {
     "name": "stdout",
     "output_type": "stream",
     "text": [
      "Train MSE\t 0.6805097610395883\n",
      "Validate MSE\t 0.6742426233528992\n"
     ]
    },
    {
     "data": {
      "image/png": "[encoded data removed]",
      "text/plain": [
       "<Figure size 432x288 with 1 Axes>"
      ]
     },
     "metadata": {
      "needs_background": "light"
     },
     "output_type": "display_data"
    }
   ],
   "source": [
    "print(\"Train MSE\\t\", str(train_MSE))\n",
    "print(\"Validate MSE\\t\", str(valid_MSE))\n",
    "\n",
    "plot_pred_true(valid_pred.flatten(), valid_y) #.flatten() will make sure the dimensions match"
   ]
  },
  {
   "cell_type": "code",
   "execution_count": 228,
   "metadata": {},
   "outputs": [],
   "source": [
    "cat_labels = [\n",
    "  'POS'\n",
    "]\n",
    "\n",
    "#Sets of all categories in a particular column\n",
    "cats_sets = [train_x.loc[:, label].fillna('NaN').unique() for label in cat_labels]"
   ]
  },
  {
   "cell_type": "code",
   "execution_count": 229,
   "metadata": {},
   "outputs": [],
   "source": [
    "def onehot(column=None, col=None):\n",
    "    column = column.astype(pd.CategoricalDtype(categories = col))\n",
    "    hot_encode = pd.get_dummies(column)\n",
    "    \n",
    "    return np.asarray(hot_encode)"
   ]
  },
  {
   "cell_type": "code",
   "execution_count": 230,
   "metadata": {},
   "outputs": [],
   "source": [
    "trv = np.zeros((len(train_x),1))\n",
    "for i in range(len(cat_labels)):\n",
    "    trv = np.concatenate((trv,onehot(train_x[cat_labels[i]],cats_sets[i])),axis = 1)\n",
    "     \n",
    "train_cat_vals = trv[:,1:]\n",
    "\n",
    "vv = np.zeros((len(valid_x),1))\n",
    "for i in range(len(cat_labels)):\n",
    "    vv = np.concatenate((vv,onehot(valid_x[cat_labels[i]],cats_sets[i])),axis = 1)\n",
    "    \n",
    "valid_cat_vals = vv[:,1:]"
   ]
  },
  {
   "cell_type": "code",
   "execution_count": 231,
   "metadata": {},
   "outputs": [],
   "source": [
    "train_vals1 = np.concatenate((train_vals,train_cat_vals),axis = 1)\n",
    "valid_vals1 = np.concatenate((valid_vals,valid_cat_vals),axis = 1)"
   ]
  },
  {
   "cell_type": "code",
   "execution_count": 238,
   "metadata": {},
   "outputs": [],
   "source": [
    "train_ridge = np.concatenate((train_vals_real,train_cat_vals),axis = 1)"
   ]
  },
  {
   "cell_type": "code",
   "execution_count": 239,
   "metadata": {},
   "outputs": [],
   "source": [
    "valid_ridge = np.concatenate((valid_vals_real,valid_cat_vals),axis = 1)"
   ]
  },
  {
   "cell_type": "code",
   "execution_count": 234,
   "metadata": {},
   "outputs": [],
   "source": [
    "train_MSE, valid_MSE, valid_pred,w = run_OLS(train_y, valid_y, train_vals1, valid_vals1)"
   ]
  },
  {
   "cell_type": "code",
   "execution_count": 235,
   "metadata": {},
   "outputs": [
    {
     "name": "stdout",
     "output_type": "stream",
     "text": [
      "Train MSE\t 0.6716298419165714\n",
      "Validation MSE\t 0.6862719538599703\n"
     ]
    },
    {
     "data": {
      "image/png": "[encoded data removed]",
      "text/plain": [
       "<Figure size 432x288 with 1 Axes>"
      ]
     },
     "metadata": {
      "needs_background": "light"
     },
     "output_type": "display_data"
    }
   ],
   "source": [
    "print(\"Train MSE\\t\", str(train_MSE))\n",
    "print(\"Validation MSE\\t\", str(valid_MSE))\n",
    "\n",
    "plot_pred_true(valid_pred.flatten(), valid_y)"
   ]
  },
  {
   "cell_type": "code",
   "execution_count": 240,
   "metadata": {},
   "outputs": [],
   "source": [
    "from sklearn.linear_model import LinearRegression, Lasso, Ridge\n",
    "alpha = .1 # regularization parameter\n",
    "\n",
    "lin = Ridge(alpha=alpha).fit(train_ridge,train_y)\n",
    "yhat = lin.predict(valid_ridge)\n"
   ]
  },
  {
   "cell_type": "code",
   "execution_count": 241,
   "metadata": {},
   "outputs": [
    {
     "name": "stdout",
     "output_type": "stream",
     "text": [
      "Validation MSE is: 0.6861535531789013\n"
     ]
    },
    {
     "data": {
      "image/png": "[encoded data removed]",
      "text/plain": [
       "<Figure size 432x288 with 1 Axes>"
      ]
     },
     "metadata": {
      "needs_background": "light"
     },
     "output_type": "display_data"
    }
   ],
   "source": [
    "Ridge_MSE = MSE(valid_y, yhat)\n",
    "print('Validation MSE is: {}'.format(Ridge_MSE))\n",
    "plot_pred_true(yhat,valid_y)"
   ]
  },
  {
   "cell_type": "code",
   "execution_count": 119,
   "metadata": {},
   "outputs": [],
   "source": [
    "x1 = df['Height(cm)']"
   ]
  },
  {
   "cell_type": "code",
   "execution_count": 120,
   "metadata": {},
   "outputs": [],
   "source": [
    "y1 = df['3P']"
   ]
  },
  {
   "cell_type": "code",
   "execution_count": 121,
   "metadata": {},
   "outputs": [
    {
     "ename": "ValueError",
     "evalue": "array must not contain infs or NaNs",
     "output_type": "error",
     "traceback": [
      "\u001b[0;31m---------------------------------------------------------------------------\u001b[0m",
      "\u001b[0;31mValueError\u001b[0m                                Traceback (most recent call last)",
      "\u001b[0;32m<ipython-input-121-61da5c023ff1>\u001b[0m in \u001b[0;36m<module>\u001b[0;34m\u001b[0m\n\u001b[1;32m     26\u001b[0m     \u001b[0;32mreturn\u001b[0m \u001b[0mdf\u001b[0m\u001b[0;34m\u001b[0m\u001b[0;34m\u001b[0m\u001b[0m\n\u001b[1;32m     27\u001b[0m \u001b[0;34m\u001b[0m\u001b[0m\n\u001b[0;32m---> 28\u001b[0;31m \u001b[0mQ\u001b[0m\u001b[0;34m,\u001b[0m \u001b[0mR\u001b[0m \u001b[0;34m=\u001b[0m \u001b[0mqr\u001b[0m\u001b[0;34m(\u001b[0m\u001b[0mX\u001b[0m\u001b[0;34m,\u001b[0m \u001b[0mmode\u001b[0m\u001b[0;34m=\u001b[0m\u001b[0;34m'economic'\u001b[0m\u001b[0;34m)\u001b[0m\u001b[0;34m\u001b[0m\u001b[0;34m\u001b[0m\u001b[0m\n\u001b[0m\u001b[1;32m     29\u001b[0m \u001b[0mw\u001b[0m \u001b[0;34m=\u001b[0m \u001b[0msolve\u001b[0m\u001b[0;34m(\u001b[0m\u001b[0mR\u001b[0m\u001b[0;34m,\u001b[0m \u001b[0mQ\u001b[0m\u001b[0;34m.\u001b[0m\u001b[0mT\u001b[0m \u001b[0;34m@\u001b[0m \u001b[0my\u001b[0m\u001b[0;34m)\u001b[0m\u001b[0;34m\u001b[0m\u001b[0;34m\u001b[0m\u001b[0m\n\u001b[1;32m     30\u001b[0m \u001b[0;34m\u001b[0m\u001b[0m\n",
      "\u001b[0;32m/opt/anaconda3/lib/python3.8/site-packages/scipy/linalg/decomp_qr.py\u001b[0m in \u001b[0;36mqr\u001b[0;34m(a, overwrite_a, lwork, mode, pivoting, check_finite)\u001b[0m\n\u001b[1;32m    124\u001b[0m \u001b[0;34m\u001b[0m\u001b[0m\n\u001b[1;32m    125\u001b[0m     \u001b[0;32mif\u001b[0m \u001b[0mcheck_finite\u001b[0m\u001b[0;34m:\u001b[0m\u001b[0;34m\u001b[0m\u001b[0;34m\u001b[0m\u001b[0m\n\u001b[0;32m--> 126\u001b[0;31m         \u001b[0ma1\u001b[0m \u001b[0;34m=\u001b[0m \u001b[0mnumpy\u001b[0m\u001b[0;34m.\u001b[0m\u001b[0masarray_chkfinite\u001b[0m\u001b[0;34m(\u001b[0m\u001b[0ma\u001b[0m\u001b[0;34m)\u001b[0m\u001b[0;34m\u001b[0m\u001b[0;34m\u001b[0m\u001b[0m\n\u001b[0m\u001b[1;32m    127\u001b[0m     \u001b[0;32melse\u001b[0m\u001b[0;34m:\u001b[0m\u001b[0;34m\u001b[0m\u001b[0;34m\u001b[0m\u001b[0m\n\u001b[1;32m    128\u001b[0m         \u001b[0ma1\u001b[0m \u001b[0;34m=\u001b[0m \u001b[0mnumpy\u001b[0m\u001b[0;34m.\u001b[0m\u001b[0masarray\u001b[0m\u001b[0;34m(\u001b[0m\u001b[0ma\u001b[0m\u001b[0;34m)\u001b[0m\u001b[0;34m\u001b[0m\u001b[0;34m\u001b[0m\u001b[0m\n",
      "\u001b[0;32m/opt/anaconda3/lib/python3.8/site-packages/numpy/lib/function_base.py\u001b[0m in \u001b[0;36masarray_chkfinite\u001b[0;34m(a, dtype, order)\u001b[0m\n\u001b[1;32m    483\u001b[0m     \u001b[0ma\u001b[0m \u001b[0;34m=\u001b[0m \u001b[0masarray\u001b[0m\u001b[0;34m(\u001b[0m\u001b[0ma\u001b[0m\u001b[0;34m,\u001b[0m \u001b[0mdtype\u001b[0m\u001b[0;34m=\u001b[0m\u001b[0mdtype\u001b[0m\u001b[0;34m,\u001b[0m \u001b[0morder\u001b[0m\u001b[0;34m=\u001b[0m\u001b[0morder\u001b[0m\u001b[0;34m)\u001b[0m\u001b[0;34m\u001b[0m\u001b[0;34m\u001b[0m\u001b[0m\n\u001b[1;32m    484\u001b[0m     \u001b[0;32mif\u001b[0m \u001b[0ma\u001b[0m\u001b[0;34m.\u001b[0m\u001b[0mdtype\u001b[0m\u001b[0;34m.\u001b[0m\u001b[0mchar\u001b[0m \u001b[0;32min\u001b[0m \u001b[0mtypecodes\u001b[0m\u001b[0;34m[\u001b[0m\u001b[0;34m'AllFloat'\u001b[0m\u001b[0;34m]\u001b[0m \u001b[0;32mand\u001b[0m \u001b[0;32mnot\u001b[0m \u001b[0mnp\u001b[0m\u001b[0;34m.\u001b[0m\u001b[0misfinite\u001b[0m\u001b[0;34m(\u001b[0m\u001b[0ma\u001b[0m\u001b[0;34m)\u001b[0m\u001b[0;34m.\u001b[0m\u001b[0mall\u001b[0m\u001b[0;34m(\u001b[0m\u001b[0;34m)\u001b[0m\u001b[0;34m:\u001b[0m\u001b[0;34m\u001b[0m\u001b[0;34m\u001b[0m\u001b[0m\n\u001b[0;32m--> 485\u001b[0;31m         raise ValueError(\n\u001b[0m\u001b[1;32m    486\u001b[0m             \"array must not contain infs or NaNs\")\n\u001b[1;32m    487\u001b[0m     \u001b[0;32mreturn\u001b[0m \u001b[0ma\u001b[0m\u001b[0;34m\u001b[0m\u001b[0;34m\u001b[0m\u001b[0m\n",
      "\u001b[0;31mValueError\u001b[0m: array must not contain infs or NaNs"
     ]
    }
   ],
   "source": [
    "from scipy.linalg import qr, solve\n",
    "x = x1\n",
    "\n",
    "n = 357\n",
    "max_order = 5\n",
    "X = np.zeros((n, max_order+1))\n",
    "y = y1\n",
    "\n",
    "# method 1: use the default Vandermonde function from numpy\n",
    "X = np.vander(x, max_order+1, increasing = True)\n",
    "\n",
    "# method 2: use a for loop\n",
    "# for k in range(max_order+1):\n",
    "#     X[:,k] = x**(k)\n",
    "    \n",
    "# create a pandas dataframe with data = Vandermonde\n",
    "col_list = [\"order\"+str(i) for i in range(max_order+1)]   \n",
    "df1 = pd.DataFrame(data = X, columns=col_list)\n",
    "df1\n",
    "\n",
    "\n",
    "def Vandermonde_df(x, order = max_order):\n",
    "    X = np.vander(x, order+1, increasing = True)\n",
    "    col_list = [\"order\"+str(i) for i in range(order+1)]   \n",
    "    df = pd.DataFrame(data = X, columns=col_list)\n",
    "    return df\n",
    "\n",
    "Q, R = qr(X, mode='economic')\n",
    "w = solve(R, Q.T @ y)\n",
    "\n",
    "df1.dot(w)\n",
    "\n",
    "def p(x, order = max_order, w = w):\n",
    "    df = Vandermonde_df(x, order)\n",
    "    y = df.dot(w)\n",
    "    return np.array(y)"
   ]
  },
  {
   "cell_type": "code",
   "execution_count": 201,
   "metadata": {},
   "outputs": [
    {
     "data": {
      "text/plain": [
       "Text(0, 0.5, 'Three Pointers Percentage')"
      ]
     },
     "execution_count": 201,
     "metadata": {},
     "output_type": "execute_result"
    },
    {
     "data": {
      "image/png": "[encoded data removed]",
      "text/plain": [
       "<Figure size 432x288 with 1 Axes>"
      ]
     },
     "metadata": {
      "needs_background": "light"
     },
     "output_type": "display_data"
    }
   ],
   "source": [
    "b = np.linspace(160,230,1000)\n",
    "plt.scatter(x,y,alpha = 0.3)\n",
    "#plt.ylim(0,50)\n",
    "plt.plot(b,p(b),color = 'r')\n",
    "plt.ylim(0,50)\n",
    "plt.xlabel('Height (cm)')\n",
    "plt.ylabel('Three Pointers Percentage')"
   ]
  },
  {
   "cell_type": "code",
   "execution_count": 187,
   "metadata": {},
   "outputs": [
    {
     "name": "stdout",
     "output_type": "stream",
     "text": [
      "Requirement already satisfied: Mosek in c:\\users\\manas\\appdata\\roaming\\python\\python38\\site-packages (9.3.8)\n",
      "Requirement already satisfied: numpy in c:\\users\\manas\\anaconda3\\lib\\site-packages (from Mosek) (1.20.1)\n",
      "Note: you may need to restart the kernel to use updated packages.\n"
     ]
    }
   ],
   "source": [
    "pip install Mosek --user"
   ]
  },
  {
   "cell_type": "code",
   "execution_count": 188,
   "metadata": {},
   "outputs": [],
   "source": [
    "import sklearn\n",
    "from sklearn.tree import DecisionTreeRegressor\n",
    "from sklearn.tree import DecisionTreeClassifier\n",
    "from sklearn.ensemble import RandomForestClassifier\n",
    "from sklearn.ensemble import RandomForestRegressor\n",
    "import numpy as np\n",
    "import pandas as pd\n",
    "import mosek\n",
    "import cvxpy as cp"
   ]
  },
  {
   "cell_type": "code",
   "execution_count": 189,
   "metadata": {},
   "outputs": [],
   "source": [
    "from ControlBurn.ControlBurn import ControlBurnRegressor\n",
    "from ControlBurn.ControlBurn import ControlBurnClassifier\n",
    "\n",
    "from sklearn import datasets\n",
    "from sklearn.model_selection import train_test_split\n",
    "from sklearn import preprocessing\n",
    "from sklearn.metrics import mean_squared_error"
   ]
  },
  {
   "cell_type": "code",
   "execution_count": 190,
   "metadata": {},
   "outputs": [
    {
     "name": "stdout",
     "output_type": "stream",
     "text": [
      "     GP   MPG  MIN%Minutes Percentage  USG%Usage Rate  TO%Turnover Rate  FTA  \\\n",
      "552  28  13.4                    27.9            15.8              13.2   39   \n",
      "316  16  11.6                    24.2            16.9              12.5   14   \n",
      "206  25  29.4                    61.3            23.9              16.5  105   \n",
      "454  13  19.0                    39.5            13.1               5.3    4   \n",
      "304  58  22.7                    47.3            12.3               8.5   91   \n",
      "..   ..   ...                     ...             ...               ...  ...   \n",
      "377  33   8.2                    17.0            19.1               7.6   25   \n",
      "94   49  25.6                    53.3            21.4               8.2  118   \n",
      "409  61  19.7                    41.0            16.5              11.9   50   \n",
      "183  30  10.1                    21.0            14.3              20.9   19   \n",
      "364  33   8.2                    17.1            24.6               8.0   38   \n",
      "\n",
      "        FT  2PA    2P   eFG  ...  TRB%Total Rebound Percentage  \\\n",
      "552   66.7   48  45.8  44.1  ...                           7.3   \n",
      "316   78.6   25  60.0  50.0  ...                          13.8   \n",
      "206   62.9  181  47.5  50.9  ...                          11.7   \n",
      "454   75.0   36  55.6  47.9  ...                          10.6   \n",
      "304   64.8  168  61.9  55.4  ...                           8.3   \n",
      "..     ...  ...   ...   ...  ...                           ...   \n",
      "377   88.0   58  51.7  52.0  ...                           7.1   \n",
      "94    85.6  254  42.5  52.2  ...                           9.8   \n",
      "409   72.0  169  52.1  49.1  ...                          12.4   \n",
      "183  100.0   45  60.0  48.6  ...                           7.7   \n",
      "364   81.6  114  53.5  51.2  ...                          26.0   \n",
      "\n",
      "     APGAssists per game.  Assist Percentage  SPGSteals per game.  \\\n",
      "552                   0.9                9.9                 0.50   \n",
      "316                   0.8                9.6                 0.38   \n",
      "206                   4.2               23.0                 0.64   \n",
      "454                   1.1                8.1                 0.92   \n",
      "304                   0.8                4.8                 0.64   \n",
      "..                    ...                ...                  ...   \n",
      "377                   0.9               16.4                 0.42   \n",
      "94                    2.2               13.2                 0.63   \n",
      "409                   1.2                8.6                 0.36   \n",
      "183                   1.5               19.9                 0.30   \n",
      "364                   0.3                5.9                 0.06   \n",
      "\n",
      "     BPGBlocks per game.  TOPGTurnovers per game.    VI   ORTG   DRTG  \\\n",
      "552                 0.32                     0.64   5.6   96.5  108.1   \n",
      "316                 0.63                     0.56   7.4  107.0  105.9   \n",
      "206                 0.80                     2.68  10.1  102.8  109.9   \n",
      "454                 1.08                     0.31   5.9  108.0  102.8   \n",
      "304                 0.93                     0.55   4.7  120.1  110.1   \n",
      "..                   ...                      ...   ...    ...    ...   \n",
      "377                 0.06                     0.27   7.6  120.8  110.0   \n",
      "94                  0.29                     1.00   7.9  113.5  102.9   \n",
      "409                 0.31                     0.89   6.7  100.8  101.0   \n",
      "183                 0.13                     0.70   7.4  112.4  104.5   \n",
      "364                 0.18                     0.36   8.6  120.7  101.5   \n",
      "\n",
      "     WingSpan(cm)  \n",
      "552        210.82  \n",
      "316        220.98  \n",
      "206        212.73  \n",
      "454        220.98  \n",
      "304        213.36  \n",
      "..            ...  \n",
      "377        198.12  \n",
      "94         208.28  \n",
      "409        210.19  \n",
      "183        201.93  \n",
      "364        238.76  \n",
      "\n",
      "[595 rows x 23 columns]\n"
     ]
    },
    {
     "name": "stderr",
     "output_type": "stream",
     "text": [
      "<ipython-input-190-293e91ca8c5e>:3: UserWarning: Boolean Series key will be reindexed to match DataFrame index.\n",
      "  df3 = df3[~df['3P'].isna()]\n"
     ]
    }
   ],
   "source": [
    "df3 = df[columns_to_norm]\n",
    "df3 = df3.dropna()\n",
    "df3 = df3[~df['3P'].isna()] \n",
    "df3 = df3.sample(frac = 1) \n",
    "\n",
    "target = df3['3P']\n",
    "target_columns = ['3PA','3P']\n",
    "data1 = df3.loc[:, ~df3.columns.isin(target_columns)]\n",
    "# the following variable records the features of examples in the training set\n",
    "train_x = data1.iloc[:]\n",
    "# the following variable records the features of examples in the test set\n",
    "# test_x = data1.iloc[t:]\n",
    "# the following variable records the labels of examples in the training set\n",
    "train_y = target[:]\n",
    "# the following variable records the labels of examples in the test set\n",
    "# test_y = target[t:]\n",
    "print(train_x)"
   ]
  },
  {
   "cell_type": "code",
   "execution_count": 191,
   "metadata": {},
   "outputs": [
    {
     "name": "stdout",
     "output_type": "stream",
     "text": [
      "552    28.3\n",
      "316    28.1\n",
      "206    37.5\n",
      "454    26.5\n",
      "304    31.6\n",
      "       ... \n",
      "377    35.0\n",
      "94     41.5\n",
      "409    31.1\n",
      "183    19.2\n",
      "364    12.5\n",
      "Name: 3P, Length: 595, dtype: float64\n"
     ]
    }
   ],
   "source": [
    "print(train_y)"
   ]
  },
  {
   "cell_type": "code",
   "execution_count": 192,
   "metadata": {},
   "outputs": [
    {
     "name": "stdout",
     "output_type": "stream",
     "text": [
      "595 rows\n",
      "23 columns\n"
     ]
    }
   ],
   "source": [
    "X = train_x\n",
    "y = train_y\n",
    "y = pd.Series(y)\n",
    "y.index = X.index\n",
    "print(str(len(X)) + ' rows')\n",
    "print(str(len(X.columns)) + ' columns')"
   ]
  },
  {
   "cell_type": "code",
   "execution_count": 193,
   "metadata": {},
   "outputs": [],
   "source": [
    "xTrain, xTest, yTrain, yTest = train_test_split(X, y, test_size=0.33, random_state=42)\n",
    "xTrainScaler = preprocessing.StandardScaler()\n",
    "xTrain = xTrainScaler.fit_transform(xTrain)\n",
    "xTrain = pd.DataFrame(xTrain,columns = X.columns)\n",
    "xTest = preprocessing.StandardScaler().fit_transform(xTest)\n",
    "xTest = pd.DataFrame(xTest,columns = X.columns)\n",
    "yTrain = preprocessing.StandardScaler().fit_transform(yTrain.values.reshape(-1, 1))\n",
    "yTest = preprocessing.StandardScaler().fit_transform(yTest.values.reshape(-1, 1))\n",
    "yTrain = pd.Series(yTrain.flatten())\n",
    "yTrain.index = xTrain.index\n",
    "yTest = pd.Series(yTest.flatten())\n",
    "yTest.index = xTest.index"
   ]
  },
  {
   "cell_type": "code",
   "execution_count": 194,
   "metadata": {},
   "outputs": [],
   "source": [
    "# xTrainScaler = preprocessing.StandardScaler()\n",
    "# xTrain = xTrainScaler.fit_transform(train_ridge)\n",
    "# xTrain = pd.DataFrame(xTrain,columns = .columns)"
   ]
  },
  {
   "cell_type": "code",
   "execution_count": 195,
   "metadata": {},
   "outputs": [
    {
     "name": "stdout",
     "output_type": "stream",
     "text": [
      "Number of trees grown: 162\n",
      "Number of trees selected: 40\n",
      "Features selected ['GP', 'USG%Usage Rate', 'TO%Turnover Rate', 'FTA', 'FT', '2PA', '2P', 'eFG', 'TS', 'PPGPoints per game.', 'RPGRebounds per game.', 'TRB%Total Rebound Percentage', 'APGAssists per game.', 'Assist Percentage', 'BPGBlocks per game.', 'ORTG', 'DRTG', 'WingSpan(cm)']\n"
     ]
    }
   ],
   "source": [
    "cb = ControlBurnRegressor(build_forest_method = 'doublebagboost', alpha = 0.02)\n",
    "cb.fit(xTrain,yTrain)\n",
    "# cb.fit(train_vals1,test_vals1)\n",
    "# print(cb.features_selected_) #print selected features\n",
    "# print(cb.feature_importances_) #print feature importances\n",
    "\n",
    "print('Number of trees grown: ' + str(len(cb.forest)))\n",
    "print('Number of trees selected: ' + str(len(cb.subforest)))\n",
    "print('Features selected ' + str(cb.features_selected_))"
   ]
  },
  {
   "cell_type": "code",
   "execution_count": 228,
   "metadata": {},
   "outputs": [
    {
     "name": "stdout",
     "output_type": "stream",
     "text": [
      "Index(['GP', 'MPG', 'MIN%Minutes Percentage', 'USG%Usage Rate',\n",
      "       'TO%Turnover Rate', 'FTA', 'FT', '2PA', '2P', 'eFG', 'TS',\n",
      "       'PPGPoints per game.', 'RPGRebounds per game.',\n",
      "       'TRB%Total Rebound Percentage', 'APGAssists per game.',\n",
      "       'Assist Percentage', 'SPGSteals per game.', 'BPGBlocks per game.',\n",
      "       'TOPGTurnovers per game.', 'VI', 'ORTG', 'DRTG', 'WingSpan(cm)'],\n",
      "      dtype='object')\n"
     ]
    }
   ],
   "source": [
    "tree_list = cb.subforest\n",
    "cols = X.columns\n",
    "print(cols)\n",
    "# for tree in tree_list:\n",
    "#     print(cols[tree.feature_importances_ > 0].values )"
   ]
  },
  {
   "cell_type": "code",
   "execution_count": 226,
   "metadata": {},
   "outputs": [
    {
     "data": {
      "image/png": "[encoded data removed]",
      "text/plain": [
       "<Figure size 432x288 with 1 Axes>"
      ]
     },
     "metadata": {
      "needs_background": "light"
     },
     "output_type": "display_data"
    }
   ],
   "source": [
    "sub_weights = cb.weights[cb.weights>0]\n",
    "# print(sub_weights)\n",
    "# print(sub_weights.shape)\n",
    "for feat in cols:\n",
    "    loc = 0\n",
    "    pred_all = []\n",
    "    for tree in tree_list:\n",
    "        if ((feat in cols[tree.feature_importances_>0]) & (len(cols[tree.feature_importances_>0]) >= 1 )) :\n",
    "            x_temp = pd.DataFrame(np.linspace(-1,1,1000),columns = [feat])\n",
    "#             print(x_temp)\n",
    "            for i in cols:\n",
    "                if i != feat:\n",
    "                    x_temp[i] = 0\n",
    "            x_temp = x_temp[X.columns]\n",
    "        \n",
    "            pred = tree.predict(x_temp)\n",
    "            pred_all.append(pred*sub_weights[loc])\n",
    "        \n",
    "        loc = loc+1\n",
    "    pred_all = np.sum(pred_all,axis = 0)\n",
    "    plt.plot(np.linspace(-1,1,1000),pred_all)\n",
    "    plt.xlabel(feat)\n",
    "    plt.ylabel('Contribution to Prediction')\n",
    "    break"
   ]
  },
  {
   "cell_type": "code",
   "execution_count": 198,
   "metadata": {},
   "outputs": [
    {
     "data": {
      "text/plain": [
       "<AxesSubplot:xlabel='Feature 2', ylabel='Feature 1'>"
      ]
     },
     "execution_count": 198,
     "metadata": {},
     "output_type": "execute_result"
    },
    {
     "data": {
      "image/png": "[encoded data removed]",
      "text/plain": [
       "<Figure size 432x288 with 2 Axes>"
      ]
     },
     "metadata": {
      "needs_background": "light"
     },
     "output_type": "display_data"
    }
   ],
   "source": [
    "import itertools\n",
    "import seaborn as sns\n",
    "from itertools import combinations,permutations\n",
    "import matplotlib.pyplot as plt\n",
    "\n",
    "\n",
    "\n",
    "pairs = list(permutations(cols,2))\n",
    "counter = pd.DataFrame(pairs,columns = ['Feature 1','Feature 2'])\n",
    "\n",
    "counts = []\n",
    "for i in pairs:\n",
    "    n = 0\n",
    "    for tree in tree_list:\n",
    "        feats = list(cols[tree.feature_importances_>0])\n",
    "        if ((i[0] in feats) & (i[1] in feats)):\n",
    "            n = n + 1\n",
    "    counts.append(n)\n",
    "counter['count'] = counts\n",
    "counter = counter.pivot_table(index='Feature 1', columns='Feature 2', values='count')\n",
    "mask = np.zeros_like(counter, dtype='bool')\n",
    "mask[np.triu_indices_from(mask)] = True\n",
    "sns.heatmap(counter, mask = mask , cmap = 'Blues')"
   ]
  },
  {
   "cell_type": "code",
   "execution_count": 125,
   "metadata": {},
   "outputs": [
    {
     "data": {
      "text/plain": [
       "<AxesSubplot:xlabel='WingSpan(cm)', ylabel='eFG'>"
      ]
     },
     "execution_count": 125,
     "metadata": {},
     "output_type": "execute_result"
    },
    {
     "data": {
      "image/png": "[encoded data removed]",
      "text/plain": [
       "<Figure size 432x288 with 2 Axes>"
      ]
     },
     "metadata": {
      "needs_background": "light"
     },
     "output_type": "display_data"
    }
   ],
   "source": [
    "pairs = list(permutations(np.linspace(-3,3,200),2)) \n",
    "x_temp = pd.DataFrame(pairs,columns = ['eFG','WingSpan(cm)'])\n",
    "for i in cols:\n",
    "    if i not in ['eFG','WingSpan(cm)']:\n",
    "        x_temp[i] = 0\n",
    "x_temp = x_temp[X.columns]\n",
    "pred_all = []\n",
    "loc = 0\n",
    "for tree in tree_list:\n",
    "    if (('eFG' in cols[tree.feature_importances_>0]) &('WingSpan(cm)' in cols[tree.feature_importances_>0]) & (len(cols[tree.feature_importances_>0]) == 2)):\n",
    "        pred = tree.predict(x_temp)\n",
    "        pred_all.append(pred*sub_weights[loc])\n",
    "        \n",
    "    loc = loc + 1\n",
    "pred_all = np.sum(pred_all,axis = 0)\n",
    "\n",
    "\n",
    "df = pd.DataFrame(pairs,columns = ['eFG','WingSpan(cm)'])\n",
    "df['contribution'] = pred_all\n",
    "\n",
    "contribution = df['contribution']\n",
    "\n",
    "#Unscale the data for easier interpretation\n",
    "temp = df.drop('contribution',axis = 1)\n",
    "for i in cols:\n",
    "    if i not in ['eFG','WingSpan(cm)']:\n",
    "        temp[i] = 0\n",
    "temp = temp[X.columns]\n",
    "temp = pd.DataFrame(xTrainScaler.inverse_transform(temp), columns = X.columns)\n",
    "df = temp[['eFG','WingSpan(cm)']].round(3)\n",
    "df['contribution'] = contribution.round(3)\n",
    "\n",
    "df_plot = df.pivot_table(index='eFG', columns='WingSpan(cm)', values='contribution')\n",
    "sns.heatmap(df_plot , cmap = 'RdBu', fmt='.4f')"
   ]
  },
  {
   "cell_type": "code",
   "execution_count": 10,
   "metadata": {},
   "outputs": [
    {
     "name": "stdout",
     "output_type": "stream",
     "text": [
      "109.08537815126049\n"
     ]
    },
    {
     "data": {
      "image/png": "[encoded data removed]",
      "text/plain": [
       "<Figure size 432x288 with 1 Axes>"
      ]
     },
     "metadata": {
      "needs_background": "light"
     },
     "output_type": "display_data"
    }
   ],
   "source": [
    "import seaborn \n",
    "seaborn.histplot(df['ORTG'],kde = 'True')\n",
    "print(df['ORTG'].mean())"
   ]
  },
  {
   "cell_type": "code",
   "execution_count": 11,
   "metadata": {},
   "outputs": [
    {
     "data": {
      "text/plain": [
       "<AxesSubplot:xlabel='3P', ylabel='Count'>"
      ]
     },
     "execution_count": 11,
     "metadata": {},
     "output_type": "execute_result"
    },
    {
     "data": {
      "image/png": "[encoded data removed]",
      "text/plain": [
       "<Figure size 432x288 with 1 Axes>"
      ]
     },
     "metadata": {
      "needs_background": "light"
     },
     "output_type": "display_data"
    }
   ],
   "source": [
    "seaborn.histplot(df['3P'],kde = 'True')"
   ]
  },
  {
   "cell_type": "code",
   "execution_count": 12,
   "metadata": {},
   "outputs": [
    {
     "data": {
      "text/plain": [
       "<AxesSubplot:xlabel='WingSpan(cm)', ylabel='Count'>"
      ]
     },
     "execution_count": 12,
     "metadata": {},
     "output_type": "execute_result"
    },
    {
     "data": {
      "image/png": "[encoded data removed]",
      "text/plain": [
       "<Figure size 432x288 with 1 Axes>"
      ]
     },
     "metadata": {
      "needs_background": "light"
     },
     "output_type": "display_data"
    }
   ],
   "source": [
    "seaborn.histplot(df['WingSpan(cm)'],kde = 'True')"
   ]
  },
  {
   "cell_type": "code",
   "execution_count": 13,
   "metadata": {},
   "outputs": [
    {
     "data": {
      "text/plain": [
       "<AxesSubplot:xlabel='PPGPoints per game.', ylabel='Count'>"
      ]
     },
     "execution_count": 13,
     "metadata": {},
     "output_type": "execute_result"
    },
    {
     "data": {
      "image/png": "[encoded data removed]",
      "text/plain": [
       "<Figure size 432x288 with 1 Axes>"
      ]
     },
     "metadata": {
      "needs_background": "light"
     },
     "output_type": "display_data"
    }
   ],
   "source": [
    "seaborn.histplot(df['PPGPoints per game.'],kde = 'True')"
   ]
  },
  {
   "cell_type": "markdown",
   "metadata": {},
   "source": [
    "Bagging Classifier"
   ]
  },
  {
   "cell_type": "code",
   "execution_count": 242,
   "metadata": {},
   "outputs": [],
   "source": [
    "from sklearn.ensemble import BaggingClassifier"
   ]
  },
  {
   "cell_type": "code",
   "execution_count": null,
   "metadata": {},
   "outputs": [],
   "source": []
  }
 ],
 "metadata": {
  "kernelspec": {
   "display_name": "Python 3",
   "language": "python",
   "name": "python3"
  },
  "language_info": {
   "codemirror_mode": {
    "name": "ipython",
    "version": 3
   },
   "file_extension": ".py",
   "mimetype": "text/x-python",
   "name": "python",
   "nbconvert_exporter": "python",
   "pygments_lexer": "ipython3",
   "version": "3.8.5"
  }
 },
 "nbformat": 4,
 "nbformat_minor": 4
}
